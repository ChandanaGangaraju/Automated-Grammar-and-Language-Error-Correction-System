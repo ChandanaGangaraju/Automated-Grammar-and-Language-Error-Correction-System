{
  "nbformat": 4,
  "nbformat_minor": 0,
  "metadata": {
    "colab": {
      "provenance": [],
      "gpuType": "T4"
    },
    "kernelspec": {
      "name": "python3",
      "display_name": "Python 3"
    },
    "language_info": {
      "name": "python"
    },
    "accelerator": "GPU",
    "widgets": {
      "application/vnd.jupyter.widget-state+json": {
        "d4d73e40616d48768d721ddf2f661b78": {
          "model_module": "@jupyter-widgets/controls",
          "model_name": "HBoxModel",
          "model_module_version": "1.5.0",
          "state": {
            "_dom_classes": [],
            "_model_module": "@jupyter-widgets/controls",
            "_model_module_version": "1.5.0",
            "_model_name": "HBoxModel",
            "_view_count": null,
            "_view_module": "@jupyter-widgets/controls",
            "_view_module_version": "1.5.0",
            "_view_name": "HBoxView",
            "box_style": "",
            "children": [
              "IPY_MODEL_31631dfee15645efbee110da7b1b776a",
              "IPY_MODEL_4e5366e0d8fd4ff1a68d0380c6773b2f",
              "IPY_MODEL_936fc1749acd4383b44ea8f4fd064c06"
            ],
            "layout": "IPY_MODEL_d11e91597f394f81aff91b9e96b5e4b5"
          }
        },
        "31631dfee15645efbee110da7b1b776a": {
          "model_module": "@jupyter-widgets/controls",
          "model_name": "HTMLModel",
          "model_module_version": "1.5.0",
          "state": {
            "_dom_classes": [],
            "_model_module": "@jupyter-widgets/controls",
            "_model_module_version": "1.5.0",
            "_model_name": "HTMLModel",
            "_view_count": null,
            "_view_module": "@jupyter-widgets/controls",
            "_view_module_version": "1.5.0",
            "_view_name": "HTMLView",
            "description": "",
            "description_tooltip": null,
            "layout": "IPY_MODEL_521921894d3c4612811eb17773b77fad",
            "placeholder": "​",
            "style": "IPY_MODEL_1324a47418854651a9705b1b287c507c",
            "value": "Map: 100%"
          }
        },
        "4e5366e0d8fd4ff1a68d0380c6773b2f": {
          "model_module": "@jupyter-widgets/controls",
          "model_name": "FloatProgressModel",
          "model_module_version": "1.5.0",
          "state": {
            "_dom_classes": [],
            "_model_module": "@jupyter-widgets/controls",
            "_model_module_version": "1.5.0",
            "_model_name": "FloatProgressModel",
            "_view_count": null,
            "_view_module": "@jupyter-widgets/controls",
            "_view_module_version": "1.5.0",
            "_view_name": "ProgressView",
            "bar_style": "success",
            "description": "",
            "description_tooltip": null,
            "layout": "IPY_MODEL_936e425edc934a8fa956fdc114cfe640",
            "max": 1208,
            "min": 0,
            "orientation": "horizontal",
            "style": "IPY_MODEL_da93d2394e5b4458965fbc9bac97281b",
            "value": 1208
          }
        },
        "936fc1749acd4383b44ea8f4fd064c06": {
          "model_module": "@jupyter-widgets/controls",
          "model_name": "HTMLModel",
          "model_module_version": "1.5.0",
          "state": {
            "_dom_classes": [],
            "_model_module": "@jupyter-widgets/controls",
            "_model_module_version": "1.5.0",
            "_model_name": "HTMLModel",
            "_view_count": null,
            "_view_module": "@jupyter-widgets/controls",
            "_view_module_version": "1.5.0",
            "_view_name": "HTMLView",
            "description": "",
            "description_tooltip": null,
            "layout": "IPY_MODEL_312c3db4c57c41a2a93cd8623efbda7c",
            "placeholder": "​",
            "style": "IPY_MODEL_f39cd7ab0dd94f418f85c6022b1c208d",
            "value": " 1208/1208 [00:01&lt;00:00, 1186.15 examples/s]"
          }
        },
        "d11e91597f394f81aff91b9e96b5e4b5": {
          "model_module": "@jupyter-widgets/base",
          "model_name": "LayoutModel",
          "model_module_version": "1.2.0",
          "state": {
            "_model_module": "@jupyter-widgets/base",
            "_model_module_version": "1.2.0",
            "_model_name": "LayoutModel",
            "_view_count": null,
            "_view_module": "@jupyter-widgets/base",
            "_view_module_version": "1.2.0",
            "_view_name": "LayoutView",
            "align_content": null,
            "align_items": null,
            "align_self": null,
            "border": null,
            "bottom": null,
            "display": null,
            "flex": null,
            "flex_flow": null,
            "grid_area": null,
            "grid_auto_columns": null,
            "grid_auto_flow": null,
            "grid_auto_rows": null,
            "grid_column": null,
            "grid_gap": null,
            "grid_row": null,
            "grid_template_areas": null,
            "grid_template_columns": null,
            "grid_template_rows": null,
            "height": null,
            "justify_content": null,
            "justify_items": null,
            "left": null,
            "margin": null,
            "max_height": null,
            "max_width": null,
            "min_height": null,
            "min_width": null,
            "object_fit": null,
            "object_position": null,
            "order": null,
            "overflow": null,
            "overflow_x": null,
            "overflow_y": null,
            "padding": null,
            "right": null,
            "top": null,
            "visibility": null,
            "width": null
          }
        },
        "521921894d3c4612811eb17773b77fad": {
          "model_module": "@jupyter-widgets/base",
          "model_name": "LayoutModel",
          "model_module_version": "1.2.0",
          "state": {
            "_model_module": "@jupyter-widgets/base",
            "_model_module_version": "1.2.0",
            "_model_name": "LayoutModel",
            "_view_count": null,
            "_view_module": "@jupyter-widgets/base",
            "_view_module_version": "1.2.0",
            "_view_name": "LayoutView",
            "align_content": null,
            "align_items": null,
            "align_self": null,
            "border": null,
            "bottom": null,
            "display": null,
            "flex": null,
            "flex_flow": null,
            "grid_area": null,
            "grid_auto_columns": null,
            "grid_auto_flow": null,
            "grid_auto_rows": null,
            "grid_column": null,
            "grid_gap": null,
            "grid_row": null,
            "grid_template_areas": null,
            "grid_template_columns": null,
            "grid_template_rows": null,
            "height": null,
            "justify_content": null,
            "justify_items": null,
            "left": null,
            "margin": null,
            "max_height": null,
            "max_width": null,
            "min_height": null,
            "min_width": null,
            "object_fit": null,
            "object_position": null,
            "order": null,
            "overflow": null,
            "overflow_x": null,
            "overflow_y": null,
            "padding": null,
            "right": null,
            "top": null,
            "visibility": null,
            "width": null
          }
        },
        "1324a47418854651a9705b1b287c507c": {
          "model_module": "@jupyter-widgets/controls",
          "model_name": "DescriptionStyleModel",
          "model_module_version": "1.5.0",
          "state": {
            "_model_module": "@jupyter-widgets/controls",
            "_model_module_version": "1.5.0",
            "_model_name": "DescriptionStyleModel",
            "_view_count": null,
            "_view_module": "@jupyter-widgets/base",
            "_view_module_version": "1.2.0",
            "_view_name": "StyleView",
            "description_width": ""
          }
        },
        "936e425edc934a8fa956fdc114cfe640": {
          "model_module": "@jupyter-widgets/base",
          "model_name": "LayoutModel",
          "model_module_version": "1.2.0",
          "state": {
            "_model_module": "@jupyter-widgets/base",
            "_model_module_version": "1.2.0",
            "_model_name": "LayoutModel",
            "_view_count": null,
            "_view_module": "@jupyter-widgets/base",
            "_view_module_version": "1.2.0",
            "_view_name": "LayoutView",
            "align_content": null,
            "align_items": null,
            "align_self": null,
            "border": null,
            "bottom": null,
            "display": null,
            "flex": null,
            "flex_flow": null,
            "grid_area": null,
            "grid_auto_columns": null,
            "grid_auto_flow": null,
            "grid_auto_rows": null,
            "grid_column": null,
            "grid_gap": null,
            "grid_row": null,
            "grid_template_areas": null,
            "grid_template_columns": null,
            "grid_template_rows": null,
            "height": null,
            "justify_content": null,
            "justify_items": null,
            "left": null,
            "margin": null,
            "max_height": null,
            "max_width": null,
            "min_height": null,
            "min_width": null,
            "object_fit": null,
            "object_position": null,
            "order": null,
            "overflow": null,
            "overflow_x": null,
            "overflow_y": null,
            "padding": null,
            "right": null,
            "top": null,
            "visibility": null,
            "width": null
          }
        },
        "da93d2394e5b4458965fbc9bac97281b": {
          "model_module": "@jupyter-widgets/controls",
          "model_name": "ProgressStyleModel",
          "model_module_version": "1.5.0",
          "state": {
            "_model_module": "@jupyter-widgets/controls",
            "_model_module_version": "1.5.0",
            "_model_name": "ProgressStyleModel",
            "_view_count": null,
            "_view_module": "@jupyter-widgets/base",
            "_view_module_version": "1.2.0",
            "_view_name": "StyleView",
            "bar_color": null,
            "description_width": ""
          }
        },
        "312c3db4c57c41a2a93cd8623efbda7c": {
          "model_module": "@jupyter-widgets/base",
          "model_name": "LayoutModel",
          "model_module_version": "1.2.0",
          "state": {
            "_model_module": "@jupyter-widgets/base",
            "_model_module_version": "1.2.0",
            "_model_name": "LayoutModel",
            "_view_count": null,
            "_view_module": "@jupyter-widgets/base",
            "_view_module_version": "1.2.0",
            "_view_name": "LayoutView",
            "align_content": null,
            "align_items": null,
            "align_self": null,
            "border": null,
            "bottom": null,
            "display": null,
            "flex": null,
            "flex_flow": null,
            "grid_area": null,
            "grid_auto_columns": null,
            "grid_auto_flow": null,
            "grid_auto_rows": null,
            "grid_column": null,
            "grid_gap": null,
            "grid_row": null,
            "grid_template_areas": null,
            "grid_template_columns": null,
            "grid_template_rows": null,
            "height": null,
            "justify_content": null,
            "justify_items": null,
            "left": null,
            "margin": null,
            "max_height": null,
            "max_width": null,
            "min_height": null,
            "min_width": null,
            "object_fit": null,
            "object_position": null,
            "order": null,
            "overflow": null,
            "overflow_x": null,
            "overflow_y": null,
            "padding": null,
            "right": null,
            "top": null,
            "visibility": null,
            "width": null
          }
        },
        "f39cd7ab0dd94f418f85c6022b1c208d": {
          "model_module": "@jupyter-widgets/controls",
          "model_name": "DescriptionStyleModel",
          "model_module_version": "1.5.0",
          "state": {
            "_model_module": "@jupyter-widgets/controls",
            "_model_module_version": "1.5.0",
            "_model_name": "DescriptionStyleModel",
            "_view_count": null,
            "_view_module": "@jupyter-widgets/base",
            "_view_module_version": "1.2.0",
            "_view_name": "StyleView",
            "description_width": ""
          }
        },
        "7f822438f6f0468f90a2fc42763cdb20": {
          "model_module": "@jupyter-widgets/controls",
          "model_name": "HBoxModel",
          "model_module_version": "1.5.0",
          "state": {
            "_dom_classes": [],
            "_model_module": "@jupyter-widgets/controls",
            "_model_module_version": "1.5.0",
            "_model_name": "HBoxModel",
            "_view_count": null,
            "_view_module": "@jupyter-widgets/controls",
            "_view_module_version": "1.5.0",
            "_view_name": "HBoxView",
            "box_style": "",
            "children": [
              "IPY_MODEL_fce35b27523843a28e9f043a4a5b21ad",
              "IPY_MODEL_b88c39917b8d4fffbaff076ce4db6f78",
              "IPY_MODEL_c6f6cfe4c878472ca43d98f84710a3e7"
            ],
            "layout": "IPY_MODEL_7709930f6f864befa191cf5e1fa321cb"
          }
        },
        "fce35b27523843a28e9f043a4a5b21ad": {
          "model_module": "@jupyter-widgets/controls",
          "model_name": "HTMLModel",
          "model_module_version": "1.5.0",
          "state": {
            "_dom_classes": [],
            "_model_module": "@jupyter-widgets/controls",
            "_model_module_version": "1.5.0",
            "_model_name": "HTMLModel",
            "_view_count": null,
            "_view_module": "@jupyter-widgets/controls",
            "_view_module_version": "1.5.0",
            "_view_name": "HTMLView",
            "description": "",
            "description_tooltip": null,
            "layout": "IPY_MODEL_5877c5151d17490d866d1ff004beee8b",
            "placeholder": "​",
            "style": "IPY_MODEL_5b1b9a111e3d4285b9b8c8fb5c0a79e0",
            "value": "Map: 100%"
          }
        },
        "b88c39917b8d4fffbaff076ce4db6f78": {
          "model_module": "@jupyter-widgets/controls",
          "model_name": "FloatProgressModel",
          "model_module_version": "1.5.0",
          "state": {
            "_dom_classes": [],
            "_model_module": "@jupyter-widgets/controls",
            "_model_module_version": "1.5.0",
            "_model_name": "FloatProgressModel",
            "_view_count": null,
            "_view_module": "@jupyter-widgets/controls",
            "_view_module_version": "1.5.0",
            "_view_name": "ProgressView",
            "bar_style": "success",
            "description": "",
            "description_tooltip": null,
            "layout": "IPY_MODEL_c04e9240f52644c0840d43743ba5a06c",
            "max": 1208,
            "min": 0,
            "orientation": "horizontal",
            "style": "IPY_MODEL_db9a851e42a74f5ab557873034ead488",
            "value": 1208
          }
        },
        "c6f6cfe4c878472ca43d98f84710a3e7": {
          "model_module": "@jupyter-widgets/controls",
          "model_name": "HTMLModel",
          "model_module_version": "1.5.0",
          "state": {
            "_dom_classes": [],
            "_model_module": "@jupyter-widgets/controls",
            "_model_module_version": "1.5.0",
            "_model_name": "HTMLModel",
            "_view_count": null,
            "_view_module": "@jupyter-widgets/controls",
            "_view_module_version": "1.5.0",
            "_view_name": "HTMLView",
            "description": "",
            "description_tooltip": null,
            "layout": "IPY_MODEL_143c3bf00f8543e59c523056e50e1ade",
            "placeholder": "​",
            "style": "IPY_MODEL_74fd36bae4a64de7b76ce37954c60247",
            "value": " 1208/1208 [00:01&lt;00:00, 1201.15 examples/s]"
          }
        },
        "7709930f6f864befa191cf5e1fa321cb": {
          "model_module": "@jupyter-widgets/base",
          "model_name": "LayoutModel",
          "model_module_version": "1.2.0",
          "state": {
            "_model_module": "@jupyter-widgets/base",
            "_model_module_version": "1.2.0",
            "_model_name": "LayoutModel",
            "_view_count": null,
            "_view_module": "@jupyter-widgets/base",
            "_view_module_version": "1.2.0",
            "_view_name": "LayoutView",
            "align_content": null,
            "align_items": null,
            "align_self": null,
            "border": null,
            "bottom": null,
            "display": null,
            "flex": null,
            "flex_flow": null,
            "grid_area": null,
            "grid_auto_columns": null,
            "grid_auto_flow": null,
            "grid_auto_rows": null,
            "grid_column": null,
            "grid_gap": null,
            "grid_row": null,
            "grid_template_areas": null,
            "grid_template_columns": null,
            "grid_template_rows": null,
            "height": null,
            "justify_content": null,
            "justify_items": null,
            "left": null,
            "margin": null,
            "max_height": null,
            "max_width": null,
            "min_height": null,
            "min_width": null,
            "object_fit": null,
            "object_position": null,
            "order": null,
            "overflow": null,
            "overflow_x": null,
            "overflow_y": null,
            "padding": null,
            "right": null,
            "top": null,
            "visibility": null,
            "width": null
          }
        },
        "5877c5151d17490d866d1ff004beee8b": {
          "model_module": "@jupyter-widgets/base",
          "model_name": "LayoutModel",
          "model_module_version": "1.2.0",
          "state": {
            "_model_module": "@jupyter-widgets/base",
            "_model_module_version": "1.2.0",
            "_model_name": "LayoutModel",
            "_view_count": null,
            "_view_module": "@jupyter-widgets/base",
            "_view_module_version": "1.2.0",
            "_view_name": "LayoutView",
            "align_content": null,
            "align_items": null,
            "align_self": null,
            "border": null,
            "bottom": null,
            "display": null,
            "flex": null,
            "flex_flow": null,
            "grid_area": null,
            "grid_auto_columns": null,
            "grid_auto_flow": null,
            "grid_auto_rows": null,
            "grid_column": null,
            "grid_gap": null,
            "grid_row": null,
            "grid_template_areas": null,
            "grid_template_columns": null,
            "grid_template_rows": null,
            "height": null,
            "justify_content": null,
            "justify_items": null,
            "left": null,
            "margin": null,
            "max_height": null,
            "max_width": null,
            "min_height": null,
            "min_width": null,
            "object_fit": null,
            "object_position": null,
            "order": null,
            "overflow": null,
            "overflow_x": null,
            "overflow_y": null,
            "padding": null,
            "right": null,
            "top": null,
            "visibility": null,
            "width": null
          }
        },
        "5b1b9a111e3d4285b9b8c8fb5c0a79e0": {
          "model_module": "@jupyter-widgets/controls",
          "model_name": "DescriptionStyleModel",
          "model_module_version": "1.5.0",
          "state": {
            "_model_module": "@jupyter-widgets/controls",
            "_model_module_version": "1.5.0",
            "_model_name": "DescriptionStyleModel",
            "_view_count": null,
            "_view_module": "@jupyter-widgets/base",
            "_view_module_version": "1.2.0",
            "_view_name": "StyleView",
            "description_width": ""
          }
        },
        "c04e9240f52644c0840d43743ba5a06c": {
          "model_module": "@jupyter-widgets/base",
          "model_name": "LayoutModel",
          "model_module_version": "1.2.0",
          "state": {
            "_model_module": "@jupyter-widgets/base",
            "_model_module_version": "1.2.0",
            "_model_name": "LayoutModel",
            "_view_count": null,
            "_view_module": "@jupyter-widgets/base",
            "_view_module_version": "1.2.0",
            "_view_name": "LayoutView",
            "align_content": null,
            "align_items": null,
            "align_self": null,
            "border": null,
            "bottom": null,
            "display": null,
            "flex": null,
            "flex_flow": null,
            "grid_area": null,
            "grid_auto_columns": null,
            "grid_auto_flow": null,
            "grid_auto_rows": null,
            "grid_column": null,
            "grid_gap": null,
            "grid_row": null,
            "grid_template_areas": null,
            "grid_template_columns": null,
            "grid_template_rows": null,
            "height": null,
            "justify_content": null,
            "justify_items": null,
            "left": null,
            "margin": null,
            "max_height": null,
            "max_width": null,
            "min_height": null,
            "min_width": null,
            "object_fit": null,
            "object_position": null,
            "order": null,
            "overflow": null,
            "overflow_x": null,
            "overflow_y": null,
            "padding": null,
            "right": null,
            "top": null,
            "visibility": null,
            "width": null
          }
        },
        "db9a851e42a74f5ab557873034ead488": {
          "model_module": "@jupyter-widgets/controls",
          "model_name": "ProgressStyleModel",
          "model_module_version": "1.5.0",
          "state": {
            "_model_module": "@jupyter-widgets/controls",
            "_model_module_version": "1.5.0",
            "_model_name": "ProgressStyleModel",
            "_view_count": null,
            "_view_module": "@jupyter-widgets/base",
            "_view_module_version": "1.2.0",
            "_view_name": "StyleView",
            "bar_color": null,
            "description_width": ""
          }
        },
        "143c3bf00f8543e59c523056e50e1ade": {
          "model_module": "@jupyter-widgets/base",
          "model_name": "LayoutModel",
          "model_module_version": "1.2.0",
          "state": {
            "_model_module": "@jupyter-widgets/base",
            "_model_module_version": "1.2.0",
            "_model_name": "LayoutModel",
            "_view_count": null,
            "_view_module": "@jupyter-widgets/base",
            "_view_module_version": "1.2.0",
            "_view_name": "LayoutView",
            "align_content": null,
            "align_items": null,
            "align_self": null,
            "border": null,
            "bottom": null,
            "display": null,
            "flex": null,
            "flex_flow": null,
            "grid_area": null,
            "grid_auto_columns": null,
            "grid_auto_flow": null,
            "grid_auto_rows": null,
            "grid_column": null,
            "grid_gap": null,
            "grid_row": null,
            "grid_template_areas": null,
            "grid_template_columns": null,
            "grid_template_rows": null,
            "height": null,
            "justify_content": null,
            "justify_items": null,
            "left": null,
            "margin": null,
            "max_height": null,
            "max_width": null,
            "min_height": null,
            "min_width": null,
            "object_fit": null,
            "object_position": null,
            "order": null,
            "overflow": null,
            "overflow_x": null,
            "overflow_y": null,
            "padding": null,
            "right": null,
            "top": null,
            "visibility": null,
            "width": null
          }
        },
        "74fd36bae4a64de7b76ce37954c60247": {
          "model_module": "@jupyter-widgets/controls",
          "model_name": "DescriptionStyleModel",
          "model_module_version": "1.5.0",
          "state": {
            "_model_module": "@jupyter-widgets/controls",
            "_model_module_version": "1.5.0",
            "_model_name": "DescriptionStyleModel",
            "_view_count": null,
            "_view_module": "@jupyter-widgets/base",
            "_view_module_version": "1.2.0",
            "_view_name": "StyleView",
            "description_width": ""
          }
        },
        "1e35c32ee2a34b3d8d15a76f9936c916": {
          "model_module": "@jupyter-widgets/controls",
          "model_name": "HBoxModel",
          "model_module_version": "1.5.0",
          "state": {
            "_dom_classes": [],
            "_model_module": "@jupyter-widgets/controls",
            "_model_module_version": "1.5.0",
            "_model_name": "HBoxModel",
            "_view_count": null,
            "_view_module": "@jupyter-widgets/controls",
            "_view_module_version": "1.5.0",
            "_view_name": "HBoxView",
            "box_style": "",
            "children": [
              "IPY_MODEL_9342ae1499654e50b5ce39e0e901f41a",
              "IPY_MODEL_5ddf0329fc754ce0b7d25d61da31ad1b",
              "IPY_MODEL_cc7eff4f9b8941d5b4b47a6476fec77f"
            ],
            "layout": "IPY_MODEL_5e63163c6dfa407396aa4748cab25efe"
          }
        },
        "9342ae1499654e50b5ce39e0e901f41a": {
          "model_module": "@jupyter-widgets/controls",
          "model_name": "HTMLModel",
          "model_module_version": "1.5.0",
          "state": {
            "_dom_classes": [],
            "_model_module": "@jupyter-widgets/controls",
            "_model_module_version": "1.5.0",
            "_model_name": "HTMLModel",
            "_view_count": null,
            "_view_module": "@jupyter-widgets/controls",
            "_view_module_version": "1.5.0",
            "_view_name": "HTMLView",
            "description": "",
            "description_tooltip": null,
            "layout": "IPY_MODEL_9a502e9d1ba74ea7b92d2c18519d9457",
            "placeholder": "​",
            "style": "IPY_MODEL_030f5c02eae3425ea2a8bd3317ef2df3",
            "value": "Map: 100%"
          }
        },
        "5ddf0329fc754ce0b7d25d61da31ad1b": {
          "model_module": "@jupyter-widgets/controls",
          "model_name": "FloatProgressModel",
          "model_module_version": "1.5.0",
          "state": {
            "_dom_classes": [],
            "_model_module": "@jupyter-widgets/controls",
            "_model_module_version": "1.5.0",
            "_model_name": "FloatProgressModel",
            "_view_count": null,
            "_view_module": "@jupyter-widgets/controls",
            "_view_module_version": "1.5.0",
            "_view_name": "ProgressView",
            "bar_style": "success",
            "description": "",
            "description_tooltip": null,
            "layout": "IPY_MODEL_056ada9526bb44c1a428bbb0b8e86223",
            "max": 151,
            "min": 0,
            "orientation": "horizontal",
            "style": "IPY_MODEL_9a6c940069274d8baeefbbb8d032cfce",
            "value": 151
          }
        },
        "cc7eff4f9b8941d5b4b47a6476fec77f": {
          "model_module": "@jupyter-widgets/controls",
          "model_name": "HTMLModel",
          "model_module_version": "1.5.0",
          "state": {
            "_dom_classes": [],
            "_model_module": "@jupyter-widgets/controls",
            "_model_module_version": "1.5.0",
            "_model_name": "HTMLModel",
            "_view_count": null,
            "_view_module": "@jupyter-widgets/controls",
            "_view_module_version": "1.5.0",
            "_view_name": "HTMLView",
            "description": "",
            "description_tooltip": null,
            "layout": "IPY_MODEL_2f1faa95c7624186a5a44ad875c180f8",
            "placeholder": "​",
            "style": "IPY_MODEL_8862143d674d4b74b0e346cddc31994b",
            "value": " 151/151 [00:00&lt;00:00, 810.62 examples/s]"
          }
        },
        "5e63163c6dfa407396aa4748cab25efe": {
          "model_module": "@jupyter-widgets/base",
          "model_name": "LayoutModel",
          "model_module_version": "1.2.0",
          "state": {
            "_model_module": "@jupyter-widgets/base",
            "_model_module_version": "1.2.0",
            "_model_name": "LayoutModel",
            "_view_count": null,
            "_view_module": "@jupyter-widgets/base",
            "_view_module_version": "1.2.0",
            "_view_name": "LayoutView",
            "align_content": null,
            "align_items": null,
            "align_self": null,
            "border": null,
            "bottom": null,
            "display": null,
            "flex": null,
            "flex_flow": null,
            "grid_area": null,
            "grid_auto_columns": null,
            "grid_auto_flow": null,
            "grid_auto_rows": null,
            "grid_column": null,
            "grid_gap": null,
            "grid_row": null,
            "grid_template_areas": null,
            "grid_template_columns": null,
            "grid_template_rows": null,
            "height": null,
            "justify_content": null,
            "justify_items": null,
            "left": null,
            "margin": null,
            "max_height": null,
            "max_width": null,
            "min_height": null,
            "min_width": null,
            "object_fit": null,
            "object_position": null,
            "order": null,
            "overflow": null,
            "overflow_x": null,
            "overflow_y": null,
            "padding": null,
            "right": null,
            "top": null,
            "visibility": null,
            "width": null
          }
        },
        "9a502e9d1ba74ea7b92d2c18519d9457": {
          "model_module": "@jupyter-widgets/base",
          "model_name": "LayoutModel",
          "model_module_version": "1.2.0",
          "state": {
            "_model_module": "@jupyter-widgets/base",
            "_model_module_version": "1.2.0",
            "_model_name": "LayoutModel",
            "_view_count": null,
            "_view_module": "@jupyter-widgets/base",
            "_view_module_version": "1.2.0",
            "_view_name": "LayoutView",
            "align_content": null,
            "align_items": null,
            "align_self": null,
            "border": null,
            "bottom": null,
            "display": null,
            "flex": null,
            "flex_flow": null,
            "grid_area": null,
            "grid_auto_columns": null,
            "grid_auto_flow": null,
            "grid_auto_rows": null,
            "grid_column": null,
            "grid_gap": null,
            "grid_row": null,
            "grid_template_areas": null,
            "grid_template_columns": null,
            "grid_template_rows": null,
            "height": null,
            "justify_content": null,
            "justify_items": null,
            "left": null,
            "margin": null,
            "max_height": null,
            "max_width": null,
            "min_height": null,
            "min_width": null,
            "object_fit": null,
            "object_position": null,
            "order": null,
            "overflow": null,
            "overflow_x": null,
            "overflow_y": null,
            "padding": null,
            "right": null,
            "top": null,
            "visibility": null,
            "width": null
          }
        },
        "030f5c02eae3425ea2a8bd3317ef2df3": {
          "model_module": "@jupyter-widgets/controls",
          "model_name": "DescriptionStyleModel",
          "model_module_version": "1.5.0",
          "state": {
            "_model_module": "@jupyter-widgets/controls",
            "_model_module_version": "1.5.0",
            "_model_name": "DescriptionStyleModel",
            "_view_count": null,
            "_view_module": "@jupyter-widgets/base",
            "_view_module_version": "1.2.0",
            "_view_name": "StyleView",
            "description_width": ""
          }
        },
        "056ada9526bb44c1a428bbb0b8e86223": {
          "model_module": "@jupyter-widgets/base",
          "model_name": "LayoutModel",
          "model_module_version": "1.2.0",
          "state": {
            "_model_module": "@jupyter-widgets/base",
            "_model_module_version": "1.2.0",
            "_model_name": "LayoutModel",
            "_view_count": null,
            "_view_module": "@jupyter-widgets/base",
            "_view_module_version": "1.2.0",
            "_view_name": "LayoutView",
            "align_content": null,
            "align_items": null,
            "align_self": null,
            "border": null,
            "bottom": null,
            "display": null,
            "flex": null,
            "flex_flow": null,
            "grid_area": null,
            "grid_auto_columns": null,
            "grid_auto_flow": null,
            "grid_auto_rows": null,
            "grid_column": null,
            "grid_gap": null,
            "grid_row": null,
            "grid_template_areas": null,
            "grid_template_columns": null,
            "grid_template_rows": null,
            "height": null,
            "justify_content": null,
            "justify_items": null,
            "left": null,
            "margin": null,
            "max_height": null,
            "max_width": null,
            "min_height": null,
            "min_width": null,
            "object_fit": null,
            "object_position": null,
            "order": null,
            "overflow": null,
            "overflow_x": null,
            "overflow_y": null,
            "padding": null,
            "right": null,
            "top": null,
            "visibility": null,
            "width": null
          }
        },
        "9a6c940069274d8baeefbbb8d032cfce": {
          "model_module": "@jupyter-widgets/controls",
          "model_name": "ProgressStyleModel",
          "model_module_version": "1.5.0",
          "state": {
            "_model_module": "@jupyter-widgets/controls",
            "_model_module_version": "1.5.0",
            "_model_name": "ProgressStyleModel",
            "_view_count": null,
            "_view_module": "@jupyter-widgets/base",
            "_view_module_version": "1.2.0",
            "_view_name": "StyleView",
            "bar_color": null,
            "description_width": ""
          }
        },
        "2f1faa95c7624186a5a44ad875c180f8": {
          "model_module": "@jupyter-widgets/base",
          "model_name": "LayoutModel",
          "model_module_version": "1.2.0",
          "state": {
            "_model_module": "@jupyter-widgets/base",
            "_model_module_version": "1.2.0",
            "_model_name": "LayoutModel",
            "_view_count": null,
            "_view_module": "@jupyter-widgets/base",
            "_view_module_version": "1.2.0",
            "_view_name": "LayoutView",
            "align_content": null,
            "align_items": null,
            "align_self": null,
            "border": null,
            "bottom": null,
            "display": null,
            "flex": null,
            "flex_flow": null,
            "grid_area": null,
            "grid_auto_columns": null,
            "grid_auto_flow": null,
            "grid_auto_rows": null,
            "grid_column": null,
            "grid_gap": null,
            "grid_row": null,
            "grid_template_areas": null,
            "grid_template_columns": null,
            "grid_template_rows": null,
            "height": null,
            "justify_content": null,
            "justify_items": null,
            "left": null,
            "margin": null,
            "max_height": null,
            "max_width": null,
            "min_height": null,
            "min_width": null,
            "object_fit": null,
            "object_position": null,
            "order": null,
            "overflow": null,
            "overflow_x": null,
            "overflow_y": null,
            "padding": null,
            "right": null,
            "top": null,
            "visibility": null,
            "width": null
          }
        },
        "8862143d674d4b74b0e346cddc31994b": {
          "model_module": "@jupyter-widgets/controls",
          "model_name": "DescriptionStyleModel",
          "model_module_version": "1.5.0",
          "state": {
            "_model_module": "@jupyter-widgets/controls",
            "_model_module_version": "1.5.0",
            "_model_name": "DescriptionStyleModel",
            "_view_count": null,
            "_view_module": "@jupyter-widgets/base",
            "_view_module_version": "1.2.0",
            "_view_name": "StyleView",
            "description_width": ""
          }
        },
        "8d92cb1ab4f444e78d468f83c77c9cfc": {
          "model_module": "@jupyter-widgets/controls",
          "model_name": "HBoxModel",
          "model_module_version": "1.5.0",
          "state": {
            "_dom_classes": [],
            "_model_module": "@jupyter-widgets/controls",
            "_model_module_version": "1.5.0",
            "_model_name": "HBoxModel",
            "_view_count": null,
            "_view_module": "@jupyter-widgets/controls",
            "_view_module_version": "1.5.0",
            "_view_name": "HBoxView",
            "box_style": "",
            "children": [
              "IPY_MODEL_5686b39984d4457485235563d784bbb3",
              "IPY_MODEL_92615f26048748f89885af15ae62ed55",
              "IPY_MODEL_55231a3c8cd7408ab408ff5888469d02"
            ],
            "layout": "IPY_MODEL_c09cfb2618724792bd979f5dd4d8b54e"
          }
        },
        "5686b39984d4457485235563d784bbb3": {
          "model_module": "@jupyter-widgets/controls",
          "model_name": "HTMLModel",
          "model_module_version": "1.5.0",
          "state": {
            "_dom_classes": [],
            "_model_module": "@jupyter-widgets/controls",
            "_model_module_version": "1.5.0",
            "_model_name": "HTMLModel",
            "_view_count": null,
            "_view_module": "@jupyter-widgets/controls",
            "_view_module_version": "1.5.0",
            "_view_name": "HTMLView",
            "description": "",
            "description_tooltip": null,
            "layout": "IPY_MODEL_f40ea4320f23444c9ca9a5879d5d47f9",
            "placeholder": "​",
            "style": "IPY_MODEL_3e72b190ec5543dd952cd349afbaa7f9",
            "value": "Map: 100%"
          }
        },
        "92615f26048748f89885af15ae62ed55": {
          "model_module": "@jupyter-widgets/controls",
          "model_name": "FloatProgressModel",
          "model_module_version": "1.5.0",
          "state": {
            "_dom_classes": [],
            "_model_module": "@jupyter-widgets/controls",
            "_model_module_version": "1.5.0",
            "_model_name": "FloatProgressModel",
            "_view_count": null,
            "_view_module": "@jupyter-widgets/controls",
            "_view_module_version": "1.5.0",
            "_view_name": "ProgressView",
            "bar_style": "success",
            "description": "",
            "description_tooltip": null,
            "layout": "IPY_MODEL_b0772524fe1240899a4f549a2d6af9c5",
            "max": 748,
            "min": 0,
            "orientation": "horizontal",
            "style": "IPY_MODEL_e16d39640af141ccae07d0eb72d4be22",
            "value": 748
          }
        },
        "55231a3c8cd7408ab408ff5888469d02": {
          "model_module": "@jupyter-widgets/controls",
          "model_name": "HTMLModel",
          "model_module_version": "1.5.0",
          "state": {
            "_dom_classes": [],
            "_model_module": "@jupyter-widgets/controls",
            "_model_module_version": "1.5.0",
            "_model_name": "HTMLModel",
            "_view_count": null,
            "_view_module": "@jupyter-widgets/controls",
            "_view_module_version": "1.5.0",
            "_view_name": "HTMLView",
            "description": "",
            "description_tooltip": null,
            "layout": "IPY_MODEL_cc87af1b893a462caf378ec2d09426e4",
            "placeholder": "​",
            "style": "IPY_MODEL_0ee2de0f82a6485585b74702d5c7563b",
            "value": " 748/748 [00:00&lt;00:00, 1889.92 examples/s]"
          }
        },
        "c09cfb2618724792bd979f5dd4d8b54e": {
          "model_module": "@jupyter-widgets/base",
          "model_name": "LayoutModel",
          "model_module_version": "1.2.0",
          "state": {
            "_model_module": "@jupyter-widgets/base",
            "_model_module_version": "1.2.0",
            "_model_name": "LayoutModel",
            "_view_count": null,
            "_view_module": "@jupyter-widgets/base",
            "_view_module_version": "1.2.0",
            "_view_name": "LayoutView",
            "align_content": null,
            "align_items": null,
            "align_self": null,
            "border": null,
            "bottom": null,
            "display": null,
            "flex": null,
            "flex_flow": null,
            "grid_area": null,
            "grid_auto_columns": null,
            "grid_auto_flow": null,
            "grid_auto_rows": null,
            "grid_column": null,
            "grid_gap": null,
            "grid_row": null,
            "grid_template_areas": null,
            "grid_template_columns": null,
            "grid_template_rows": null,
            "height": null,
            "justify_content": null,
            "justify_items": null,
            "left": null,
            "margin": null,
            "max_height": null,
            "max_width": null,
            "min_height": null,
            "min_width": null,
            "object_fit": null,
            "object_position": null,
            "order": null,
            "overflow": null,
            "overflow_x": null,
            "overflow_y": null,
            "padding": null,
            "right": null,
            "top": null,
            "visibility": null,
            "width": null
          }
        },
        "f40ea4320f23444c9ca9a5879d5d47f9": {
          "model_module": "@jupyter-widgets/base",
          "model_name": "LayoutModel",
          "model_module_version": "1.2.0",
          "state": {
            "_model_module": "@jupyter-widgets/base",
            "_model_module_version": "1.2.0",
            "_model_name": "LayoutModel",
            "_view_count": null,
            "_view_module": "@jupyter-widgets/base",
            "_view_module_version": "1.2.0",
            "_view_name": "LayoutView",
            "align_content": null,
            "align_items": null,
            "align_self": null,
            "border": null,
            "bottom": null,
            "display": null,
            "flex": null,
            "flex_flow": null,
            "grid_area": null,
            "grid_auto_columns": null,
            "grid_auto_flow": null,
            "grid_auto_rows": null,
            "grid_column": null,
            "grid_gap": null,
            "grid_row": null,
            "grid_template_areas": null,
            "grid_template_columns": null,
            "grid_template_rows": null,
            "height": null,
            "justify_content": null,
            "justify_items": null,
            "left": null,
            "margin": null,
            "max_height": null,
            "max_width": null,
            "min_height": null,
            "min_width": null,
            "object_fit": null,
            "object_position": null,
            "order": null,
            "overflow": null,
            "overflow_x": null,
            "overflow_y": null,
            "padding": null,
            "right": null,
            "top": null,
            "visibility": null,
            "width": null
          }
        },
        "3e72b190ec5543dd952cd349afbaa7f9": {
          "model_module": "@jupyter-widgets/controls",
          "model_name": "DescriptionStyleModel",
          "model_module_version": "1.5.0",
          "state": {
            "_model_module": "@jupyter-widgets/controls",
            "_model_module_version": "1.5.0",
            "_model_name": "DescriptionStyleModel",
            "_view_count": null,
            "_view_module": "@jupyter-widgets/base",
            "_view_module_version": "1.2.0",
            "_view_name": "StyleView",
            "description_width": ""
          }
        },
        "b0772524fe1240899a4f549a2d6af9c5": {
          "model_module": "@jupyter-widgets/base",
          "model_name": "LayoutModel",
          "model_module_version": "1.2.0",
          "state": {
            "_model_module": "@jupyter-widgets/base",
            "_model_module_version": "1.2.0",
            "_model_name": "LayoutModel",
            "_view_count": null,
            "_view_module": "@jupyter-widgets/base",
            "_view_module_version": "1.2.0",
            "_view_name": "LayoutView",
            "align_content": null,
            "align_items": null,
            "align_self": null,
            "border": null,
            "bottom": null,
            "display": null,
            "flex": null,
            "flex_flow": null,
            "grid_area": null,
            "grid_auto_columns": null,
            "grid_auto_flow": null,
            "grid_auto_rows": null,
            "grid_column": null,
            "grid_gap": null,
            "grid_row": null,
            "grid_template_areas": null,
            "grid_template_columns": null,
            "grid_template_rows": null,
            "height": null,
            "justify_content": null,
            "justify_items": null,
            "left": null,
            "margin": null,
            "max_height": null,
            "max_width": null,
            "min_height": null,
            "min_width": null,
            "object_fit": null,
            "object_position": null,
            "order": null,
            "overflow": null,
            "overflow_x": null,
            "overflow_y": null,
            "padding": null,
            "right": null,
            "top": null,
            "visibility": null,
            "width": null
          }
        },
        "e16d39640af141ccae07d0eb72d4be22": {
          "model_module": "@jupyter-widgets/controls",
          "model_name": "ProgressStyleModel",
          "model_module_version": "1.5.0",
          "state": {
            "_model_module": "@jupyter-widgets/controls",
            "_model_module_version": "1.5.0",
            "_model_name": "ProgressStyleModel",
            "_view_count": null,
            "_view_module": "@jupyter-widgets/base",
            "_view_module_version": "1.2.0",
            "_view_name": "StyleView",
            "bar_color": null,
            "description_width": ""
          }
        },
        "cc87af1b893a462caf378ec2d09426e4": {
          "model_module": "@jupyter-widgets/base",
          "model_name": "LayoutModel",
          "model_module_version": "1.2.0",
          "state": {
            "_model_module": "@jupyter-widgets/base",
            "_model_module_version": "1.2.0",
            "_model_name": "LayoutModel",
            "_view_count": null,
            "_view_module": "@jupyter-widgets/base",
            "_view_module_version": "1.2.0",
            "_view_name": "LayoutView",
            "align_content": null,
            "align_items": null,
            "align_self": null,
            "border": null,
            "bottom": null,
            "display": null,
            "flex": null,
            "flex_flow": null,
            "grid_area": null,
            "grid_auto_columns": null,
            "grid_auto_flow": null,
            "grid_auto_rows": null,
            "grid_column": null,
            "grid_gap": null,
            "grid_row": null,
            "grid_template_areas": null,
            "grid_template_columns": null,
            "grid_template_rows": null,
            "height": null,
            "justify_content": null,
            "justify_items": null,
            "left": null,
            "margin": null,
            "max_height": null,
            "max_width": null,
            "min_height": null,
            "min_width": null,
            "object_fit": null,
            "object_position": null,
            "order": null,
            "overflow": null,
            "overflow_x": null,
            "overflow_y": null,
            "padding": null,
            "right": null,
            "top": null,
            "visibility": null,
            "width": null
          }
        },
        "0ee2de0f82a6485585b74702d5c7563b": {
          "model_module": "@jupyter-widgets/controls",
          "model_name": "DescriptionStyleModel",
          "model_module_version": "1.5.0",
          "state": {
            "_model_module": "@jupyter-widgets/controls",
            "_model_module_version": "1.5.0",
            "_model_name": "DescriptionStyleModel",
            "_view_count": null,
            "_view_module": "@jupyter-widgets/base",
            "_view_module_version": "1.2.0",
            "_view_name": "StyleView",
            "description_width": ""
          }
        }
      }
    }
  },
  "cells": [
    {
      "cell_type": "markdown",
      "source": [
        "\n",
        "#Automated Grammar and Language Error Correction System\n",
        "\n",
        "Team Number: Team-8\n",
        "\n",
        "Team Members:\n",
        "1. Chandana Gangaraju\n",
        "2. Akshitha Komatireddy\n",
        "3. Sai Avinash Polina\n",
        "4. Venkatesh Rakurthi\n",
        "\n",
        "Course Details:\n",
        "- Course Name: Natural Language Processing\n",
        "- Course Number: AIT 526 , Section 001\n",
        "- Professor: Duoduo Liao\n",
        "\n",
        "Project Description:\n",
        "\n",
        "This project aims to develop an automated system for detecting and correcting\n",
        "grammatical errors in English sentences. The system leverages two transformer\n",
        "models, T5 (Text-to-Text Transfer Transformer) and BART (Bidirectional and\n",
        "Auto-Regressive Transformer), for grammar correction. T5 was chosen as the\n",
        "primary model for the final implementation due to its superior performance\n",
        "and versatility in sequence-to-sequence tasks.\n",
        "\n",
        "Key Features:\n",
        "1. Grammar Correction:\n",
        "   - Detects and corrects grammatical errors using T5 and BART models.\n",
        "   - Provides real-time corrections for user-input sentences.\n",
        "2. Feedback Generation:\n",
        "   - Generates detailed grammatical feedback using OpenAI's GPT API.\n",
        "3. Evaluation:\n",
        "   - Compares the performance of T5 and BART using GLEU scores.\n",
        "4. Interactive Prompt:\n",
        "   - Allows users to input incorrect sentences and receive corrections\n",
        "     and optional feedback.\n",
        "\n",
        "Datasets Used:\n",
        "- JFLEG (The Johns Hopkins Fluency-Extended GEC Dataset) for fine-tuning\n",
        "  the T5 and BART models.\n",
        "\n",
        "Tools & Libraries:\n",
        "- Hugging Face Transformers and Datasets\n",
        "- PyTorch for model fine-tuning\n",
        "- OpenAI GPT API for feedback generation\n",
        "- NLTK for GLEU score evaluation\n",
        "- Python for scripting and development\n",
        "\n",
        "Model Details:\n",
        "1. T5 (Base):\n",
        "   - A pre-trained transformer model designed for text-to-text tasks.\n",
        "   - Selected as the primary model due to its ability to handle grammar correction\n",
        "     tasks efficiently and its state-of-the-art performance in sequence generation.\n",
        "2. BART (Base):\n",
        "   - A bidirectional transformer designed for text generation and comprehension.\n",
        "   - Used for comparative analysis with T5.\n",
        "\n",
        "Evaluation Metrics:\n",
        "- GLEU (Generalized Language Evaluation Understanding) score is used to measure\n",
        "  the fluency and grammatical correctness of the corrected sentences.\n",
        "\n",
        "Developed By:\n",
        "Team-8\n",
        "\n"
      ],
      "metadata": {
        "id": "HmsVReBaEHTj"
      }
    },
    {
      "cell_type": "markdown",
      "source": [
        "Step 1: Install Necessary Libraries"
      ],
      "metadata": {
        "id": "rZ6fPQTs0KFk"
      }
    },
    {
      "cell_type": "code",
      "source": [
        "!pip install openai transformers datasets nltk wordcloud matplotlib spacy\n",
        "!python -m spacy download en_core_web_sm\n",
        "\n"
      ],
      "metadata": {
        "colab": {
          "base_uri": "https://localhost:8080/"
        },
        "id": "ORi9vkytzry8",
        "outputId": "2f1070a9-7642-46ac-9a9b-203f32ffc9ce"
      },
      "execution_count": null,
      "outputs": [
        {
          "output_type": "stream",
          "name": "stdout",
          "text": [
            "Requirement already satisfied: openai in /usr/local/lib/python3.10/dist-packages (0.28.0)\n",
            "Requirement already satisfied: transformers in /usr/local/lib/python3.10/dist-packages (4.46.2)\n",
            "Requirement already satisfied: datasets in /usr/local/lib/python3.10/dist-packages (3.1.0)\n",
            "Requirement already satisfied: nltk in /usr/local/lib/python3.10/dist-packages (3.9.1)\n",
            "Requirement already satisfied: wordcloud in /usr/local/lib/python3.10/dist-packages (1.9.4)\n",
            "Requirement already satisfied: matplotlib in /usr/local/lib/python3.10/dist-packages (3.8.0)\n",
            "Requirement already satisfied: spacy in /usr/local/lib/python3.10/dist-packages (3.7.5)\n",
            "Requirement already satisfied: requests>=2.20 in /usr/local/lib/python3.10/dist-packages (from openai) (2.32.3)\n",
            "Requirement already satisfied: tqdm in /usr/local/lib/python3.10/dist-packages (from openai) (4.66.6)\n",
            "Requirement already satisfied: aiohttp in /usr/local/lib/python3.10/dist-packages (from openai) (3.11.2)\n",
            "Requirement already satisfied: filelock in /usr/local/lib/python3.10/dist-packages (from transformers) (3.16.1)\n",
            "Requirement already satisfied: huggingface-hub<1.0,>=0.23.2 in /usr/local/lib/python3.10/dist-packages (from transformers) (0.26.2)\n",
            "Requirement already satisfied: numpy>=1.17 in /usr/local/lib/python3.10/dist-packages (from transformers) (1.26.4)\n",
            "Requirement already satisfied: packaging>=20.0 in /usr/local/lib/python3.10/dist-packages (from transformers) (24.2)\n",
            "Requirement already satisfied: pyyaml>=5.1 in /usr/local/lib/python3.10/dist-packages (from transformers) (6.0.2)\n",
            "Requirement already satisfied: regex!=2019.12.17 in /usr/local/lib/python3.10/dist-packages (from transformers) (2024.9.11)\n",
            "Requirement already satisfied: safetensors>=0.4.1 in /usr/local/lib/python3.10/dist-packages (from transformers) (0.4.5)\n",
            "Requirement already satisfied: tokenizers<0.21,>=0.20 in /usr/local/lib/python3.10/dist-packages (from transformers) (0.20.3)\n",
            "Requirement already satisfied: pyarrow>=15.0.0 in /usr/local/lib/python3.10/dist-packages (from datasets) (17.0.0)\n",
            "Requirement already satisfied: dill<0.3.9,>=0.3.0 in /usr/local/lib/python3.10/dist-packages (from datasets) (0.3.8)\n",
            "Requirement already satisfied: pandas in /usr/local/lib/python3.10/dist-packages (from datasets) (2.2.2)\n",
            "Requirement already satisfied: xxhash in /usr/local/lib/python3.10/dist-packages (from datasets) (3.5.0)\n",
            "Requirement already satisfied: multiprocess<0.70.17 in /usr/local/lib/python3.10/dist-packages (from datasets) (0.70.16)\n",
            "Requirement already satisfied: fsspec<=2024.9.0,>=2023.1.0 in /usr/local/lib/python3.10/dist-packages (from fsspec[http]<=2024.9.0,>=2023.1.0->datasets) (2024.9.0)\n",
            "Requirement already satisfied: click in /usr/local/lib/python3.10/dist-packages (from nltk) (8.1.7)\n",
            "Requirement already satisfied: joblib in /usr/local/lib/python3.10/dist-packages (from nltk) (1.4.2)\n",
            "Requirement already satisfied: pillow in /usr/local/lib/python3.10/dist-packages (from wordcloud) (11.0.0)\n",
            "Requirement already satisfied: contourpy>=1.0.1 in /usr/local/lib/python3.10/dist-packages (from matplotlib) (1.3.1)\n",
            "Requirement already satisfied: cycler>=0.10 in /usr/local/lib/python3.10/dist-packages (from matplotlib) (0.12.1)\n",
            "Requirement already satisfied: fonttools>=4.22.0 in /usr/local/lib/python3.10/dist-packages (from matplotlib) (4.55.0)\n",
            "Requirement already satisfied: kiwisolver>=1.0.1 in /usr/local/lib/python3.10/dist-packages (from matplotlib) (1.4.7)\n",
            "Requirement already satisfied: pyparsing>=2.3.1 in /usr/local/lib/python3.10/dist-packages (from matplotlib) (3.2.0)\n",
            "Requirement already satisfied: python-dateutil>=2.7 in /usr/local/lib/python3.10/dist-packages (from matplotlib) (2.8.2)\n",
            "Requirement already satisfied: spacy-legacy<3.1.0,>=3.0.11 in /usr/local/lib/python3.10/dist-packages (from spacy) (3.0.12)\n",
            "Requirement already satisfied: spacy-loggers<2.0.0,>=1.0.0 in /usr/local/lib/python3.10/dist-packages (from spacy) (1.0.5)\n",
            "Requirement already satisfied: murmurhash<1.1.0,>=0.28.0 in /usr/local/lib/python3.10/dist-packages (from spacy) (1.0.10)\n",
            "Requirement already satisfied: cymem<2.1.0,>=2.0.2 in /usr/local/lib/python3.10/dist-packages (from spacy) (2.0.8)\n",
            "Requirement already satisfied: preshed<3.1.0,>=3.0.2 in /usr/local/lib/python3.10/dist-packages (from spacy) (3.0.9)\n",
            "Requirement already satisfied: thinc<8.3.0,>=8.2.2 in /usr/local/lib/python3.10/dist-packages (from spacy) (8.2.5)\n",
            "Requirement already satisfied: wasabi<1.2.0,>=0.9.1 in /usr/local/lib/python3.10/dist-packages (from spacy) (1.1.3)\n",
            "Requirement already satisfied: srsly<3.0.0,>=2.4.3 in /usr/local/lib/python3.10/dist-packages (from spacy) (2.4.8)\n",
            "Requirement already satisfied: catalogue<2.1.0,>=2.0.6 in /usr/local/lib/python3.10/dist-packages (from spacy) (2.0.10)\n",
            "Requirement already satisfied: weasel<0.5.0,>=0.1.0 in /usr/local/lib/python3.10/dist-packages (from spacy) (0.4.1)\n",
            "Requirement already satisfied: typer<1.0.0,>=0.3.0 in /usr/local/lib/python3.10/dist-packages (from spacy) (0.13.0)\n",
            "Requirement already satisfied: pydantic!=1.8,!=1.8.1,<3.0.0,>=1.7.4 in /usr/local/lib/python3.10/dist-packages (from spacy) (2.9.2)\n",
            "Requirement already satisfied: jinja2 in /usr/local/lib/python3.10/dist-packages (from spacy) (3.1.4)\n",
            "Requirement already satisfied: setuptools in /usr/local/lib/python3.10/dist-packages (from spacy) (75.1.0)\n",
            "Requirement already satisfied: langcodes<4.0.0,>=3.2.0 in /usr/local/lib/python3.10/dist-packages (from spacy) (3.4.1)\n",
            "Requirement already satisfied: aiohappyeyeballs>=2.3.0 in /usr/local/lib/python3.10/dist-packages (from aiohttp->openai) (2.4.3)\n",
            "Requirement already satisfied: aiosignal>=1.1.2 in /usr/local/lib/python3.10/dist-packages (from aiohttp->openai) (1.3.1)\n",
            "Requirement already satisfied: attrs>=17.3.0 in /usr/local/lib/python3.10/dist-packages (from aiohttp->openai) (24.2.0)\n",
            "Requirement already satisfied: frozenlist>=1.1.1 in /usr/local/lib/python3.10/dist-packages (from aiohttp->openai) (1.5.0)\n",
            "Requirement already satisfied: multidict<7.0,>=4.5 in /usr/local/lib/python3.10/dist-packages (from aiohttp->openai) (6.1.0)\n",
            "Requirement already satisfied: propcache>=0.2.0 in /usr/local/lib/python3.10/dist-packages (from aiohttp->openai) (0.2.0)\n",
            "Requirement already satisfied: yarl<2.0,>=1.17.0 in /usr/local/lib/python3.10/dist-packages (from aiohttp->openai) (1.17.2)\n",
            "Requirement already satisfied: async-timeout<6.0,>=4.0 in /usr/local/lib/python3.10/dist-packages (from aiohttp->openai) (4.0.3)\n",
            "Requirement already satisfied: typing-extensions>=3.7.4.3 in /usr/local/lib/python3.10/dist-packages (from huggingface-hub<1.0,>=0.23.2->transformers) (4.12.2)\n",
            "Requirement already satisfied: language-data>=1.2 in /usr/local/lib/python3.10/dist-packages (from langcodes<4.0.0,>=3.2.0->spacy) (1.2.0)\n",
            "Requirement already satisfied: annotated-types>=0.6.0 in /usr/local/lib/python3.10/dist-packages (from pydantic!=1.8,!=1.8.1,<3.0.0,>=1.7.4->spacy) (0.7.0)\n",
            "Requirement already satisfied: pydantic-core==2.23.4 in /usr/local/lib/python3.10/dist-packages (from pydantic!=1.8,!=1.8.1,<3.0.0,>=1.7.4->spacy) (2.23.4)\n",
            "Requirement already satisfied: six>=1.5 in /usr/local/lib/python3.10/dist-packages (from python-dateutil>=2.7->matplotlib) (1.16.0)\n",
            "Requirement already satisfied: charset-normalizer<4,>=2 in /usr/local/lib/python3.10/dist-packages (from requests>=2.20->openai) (3.4.0)\n",
            "Requirement already satisfied: idna<4,>=2.5 in /usr/local/lib/python3.10/dist-packages (from requests>=2.20->openai) (3.10)\n",
            "Requirement already satisfied: urllib3<3,>=1.21.1 in /usr/local/lib/python3.10/dist-packages (from requests>=2.20->openai) (2.2.3)\n",
            "Requirement already satisfied: certifi>=2017.4.17 in /usr/local/lib/python3.10/dist-packages (from requests>=2.20->openai) (2024.8.30)\n",
            "Requirement already satisfied: blis<0.8.0,>=0.7.8 in /usr/local/lib/python3.10/dist-packages (from thinc<8.3.0,>=8.2.2->spacy) (0.7.11)\n",
            "Requirement already satisfied: confection<1.0.0,>=0.0.1 in /usr/local/lib/python3.10/dist-packages (from thinc<8.3.0,>=8.2.2->spacy) (0.1.5)\n",
            "Requirement already satisfied: shellingham>=1.3.0 in /usr/local/lib/python3.10/dist-packages (from typer<1.0.0,>=0.3.0->spacy) (1.5.4)\n",
            "Requirement already satisfied: rich>=10.11.0 in /usr/local/lib/python3.10/dist-packages (from typer<1.0.0,>=0.3.0->spacy) (13.9.4)\n",
            "Requirement already satisfied: cloudpathlib<1.0.0,>=0.7.0 in /usr/local/lib/python3.10/dist-packages (from weasel<0.5.0,>=0.1.0->spacy) (0.20.0)\n",
            "Requirement already satisfied: smart-open<8.0.0,>=5.2.1 in /usr/local/lib/python3.10/dist-packages (from weasel<0.5.0,>=0.1.0->spacy) (7.0.5)\n",
            "Requirement already satisfied: MarkupSafe>=2.0 in /usr/local/lib/python3.10/dist-packages (from jinja2->spacy) (3.0.2)\n",
            "Requirement already satisfied: pytz>=2020.1 in /usr/local/lib/python3.10/dist-packages (from pandas->datasets) (2024.2)\n",
            "Requirement already satisfied: tzdata>=2022.7 in /usr/local/lib/python3.10/dist-packages (from pandas->datasets) (2024.2)\n",
            "Requirement already satisfied: marisa-trie>=0.7.7 in /usr/local/lib/python3.10/dist-packages (from language-data>=1.2->langcodes<4.0.0,>=3.2.0->spacy) (1.2.1)\n",
            "Requirement already satisfied: markdown-it-py>=2.2.0 in /usr/local/lib/python3.10/dist-packages (from rich>=10.11.0->typer<1.0.0,>=0.3.0->spacy) (3.0.0)\n",
            "Requirement already satisfied: pygments<3.0.0,>=2.13.0 in /usr/local/lib/python3.10/dist-packages (from rich>=10.11.0->typer<1.0.0,>=0.3.0->spacy) (2.18.0)\n",
            "Requirement already satisfied: wrapt in /usr/local/lib/python3.10/dist-packages (from smart-open<8.0.0,>=5.2.1->weasel<0.5.0,>=0.1.0->spacy) (1.16.0)\n",
            "Requirement already satisfied: mdurl~=0.1 in /usr/local/lib/python3.10/dist-packages (from markdown-it-py>=2.2.0->rich>=10.11.0->typer<1.0.0,>=0.3.0->spacy) (0.1.2)\n",
            "Collecting en-core-web-sm==3.7.1\n",
            "  Downloading https://github.com/explosion/spacy-models/releases/download/en_core_web_sm-3.7.1/en_core_web_sm-3.7.1-py3-none-any.whl (12.8 MB)\n",
            "\u001b[2K     \u001b[90m━━━━━━━━━━━━━━━━━━━━━━━━━━━━━━━━━━━━━━━━\u001b[0m \u001b[32m12.8/12.8 MB\u001b[0m \u001b[31m49.3 MB/s\u001b[0m eta \u001b[36m0:00:00\u001b[0m\n",
            "\u001b[?25hRequirement already satisfied: spacy<3.8.0,>=3.7.2 in /usr/local/lib/python3.10/dist-packages (from en-core-web-sm==3.7.1) (3.7.5)\n",
            "Requirement already satisfied: spacy-legacy<3.1.0,>=3.0.11 in /usr/local/lib/python3.10/dist-packages (from spacy<3.8.0,>=3.7.2->en-core-web-sm==3.7.1) (3.0.12)\n",
            "Requirement already satisfied: spacy-loggers<2.0.0,>=1.0.0 in /usr/local/lib/python3.10/dist-packages (from spacy<3.8.0,>=3.7.2->en-core-web-sm==3.7.1) (1.0.5)\n",
            "Requirement already satisfied: murmurhash<1.1.0,>=0.28.0 in /usr/local/lib/python3.10/dist-packages (from spacy<3.8.0,>=3.7.2->en-core-web-sm==3.7.1) (1.0.10)\n",
            "Requirement already satisfied: cymem<2.1.0,>=2.0.2 in /usr/local/lib/python3.10/dist-packages (from spacy<3.8.0,>=3.7.2->en-core-web-sm==3.7.1) (2.0.8)\n",
            "Requirement already satisfied: preshed<3.1.0,>=3.0.2 in /usr/local/lib/python3.10/dist-packages (from spacy<3.8.0,>=3.7.2->en-core-web-sm==3.7.1) (3.0.9)\n",
            "Requirement already satisfied: thinc<8.3.0,>=8.2.2 in /usr/local/lib/python3.10/dist-packages (from spacy<3.8.0,>=3.7.2->en-core-web-sm==3.7.1) (8.2.5)\n",
            "Requirement already satisfied: wasabi<1.2.0,>=0.9.1 in /usr/local/lib/python3.10/dist-packages (from spacy<3.8.0,>=3.7.2->en-core-web-sm==3.7.1) (1.1.3)\n",
            "Requirement already satisfied: srsly<3.0.0,>=2.4.3 in /usr/local/lib/python3.10/dist-packages (from spacy<3.8.0,>=3.7.2->en-core-web-sm==3.7.1) (2.4.8)\n",
            "Requirement already satisfied: catalogue<2.1.0,>=2.0.6 in /usr/local/lib/python3.10/dist-packages (from spacy<3.8.0,>=3.7.2->en-core-web-sm==3.7.1) (2.0.10)\n",
            "Requirement already satisfied: weasel<0.5.0,>=0.1.0 in /usr/local/lib/python3.10/dist-packages (from spacy<3.8.0,>=3.7.2->en-core-web-sm==3.7.1) (0.4.1)\n",
            "Requirement already satisfied: typer<1.0.0,>=0.3.0 in /usr/local/lib/python3.10/dist-packages (from spacy<3.8.0,>=3.7.2->en-core-web-sm==3.7.1) (0.13.0)\n",
            "Requirement already satisfied: tqdm<5.0.0,>=4.38.0 in /usr/local/lib/python3.10/dist-packages (from spacy<3.8.0,>=3.7.2->en-core-web-sm==3.7.1) (4.66.6)\n",
            "Requirement already satisfied: requests<3.0.0,>=2.13.0 in /usr/local/lib/python3.10/dist-packages (from spacy<3.8.0,>=3.7.2->en-core-web-sm==3.7.1) (2.32.3)\n",
            "Requirement already satisfied: pydantic!=1.8,!=1.8.1,<3.0.0,>=1.7.4 in /usr/local/lib/python3.10/dist-packages (from spacy<3.8.0,>=3.7.2->en-core-web-sm==3.7.1) (2.9.2)\n",
            "Requirement already satisfied: jinja2 in /usr/local/lib/python3.10/dist-packages (from spacy<3.8.0,>=3.7.2->en-core-web-sm==3.7.1) (3.1.4)\n",
            "Requirement already satisfied: setuptools in /usr/local/lib/python3.10/dist-packages (from spacy<3.8.0,>=3.7.2->en-core-web-sm==3.7.1) (75.1.0)\n",
            "Requirement already satisfied: packaging>=20.0 in /usr/local/lib/python3.10/dist-packages (from spacy<3.8.0,>=3.7.2->en-core-web-sm==3.7.1) (24.2)\n",
            "Requirement already satisfied: langcodes<4.0.0,>=3.2.0 in /usr/local/lib/python3.10/dist-packages (from spacy<3.8.0,>=3.7.2->en-core-web-sm==3.7.1) (3.4.1)\n",
            "Requirement already satisfied: numpy>=1.19.0 in /usr/local/lib/python3.10/dist-packages (from spacy<3.8.0,>=3.7.2->en-core-web-sm==3.7.1) (1.26.4)\n",
            "Requirement already satisfied: language-data>=1.2 in /usr/local/lib/python3.10/dist-packages (from langcodes<4.0.0,>=3.2.0->spacy<3.8.0,>=3.7.2->en-core-web-sm==3.7.1) (1.2.0)\n",
            "Requirement already satisfied: annotated-types>=0.6.0 in /usr/local/lib/python3.10/dist-packages (from pydantic!=1.8,!=1.8.1,<3.0.0,>=1.7.4->spacy<3.8.0,>=3.7.2->en-core-web-sm==3.7.1) (0.7.0)\n",
            "Requirement already satisfied: pydantic-core==2.23.4 in /usr/local/lib/python3.10/dist-packages (from pydantic!=1.8,!=1.8.1,<3.0.0,>=1.7.4->spacy<3.8.0,>=3.7.2->en-core-web-sm==3.7.1) (2.23.4)\n",
            "Requirement already satisfied: typing-extensions>=4.6.1 in /usr/local/lib/python3.10/dist-packages (from pydantic!=1.8,!=1.8.1,<3.0.0,>=1.7.4->spacy<3.8.0,>=3.7.2->en-core-web-sm==3.7.1) (4.12.2)\n",
            "Requirement already satisfied: charset-normalizer<4,>=2 in /usr/local/lib/python3.10/dist-packages (from requests<3.0.0,>=2.13.0->spacy<3.8.0,>=3.7.2->en-core-web-sm==3.7.1) (3.4.0)\n",
            "Requirement already satisfied: idna<4,>=2.5 in /usr/local/lib/python3.10/dist-packages (from requests<3.0.0,>=2.13.0->spacy<3.8.0,>=3.7.2->en-core-web-sm==3.7.1) (3.10)\n",
            "Requirement already satisfied: urllib3<3,>=1.21.1 in /usr/local/lib/python3.10/dist-packages (from requests<3.0.0,>=2.13.0->spacy<3.8.0,>=3.7.2->en-core-web-sm==3.7.1) (2.2.3)\n",
            "Requirement already satisfied: certifi>=2017.4.17 in /usr/local/lib/python3.10/dist-packages (from requests<3.0.0,>=2.13.0->spacy<3.8.0,>=3.7.2->en-core-web-sm==3.7.1) (2024.8.30)\n",
            "Requirement already satisfied: blis<0.8.0,>=0.7.8 in /usr/local/lib/python3.10/dist-packages (from thinc<8.3.0,>=8.2.2->spacy<3.8.0,>=3.7.2->en-core-web-sm==3.7.1) (0.7.11)\n",
            "Requirement already satisfied: confection<1.0.0,>=0.0.1 in /usr/local/lib/python3.10/dist-packages (from thinc<8.3.0,>=8.2.2->spacy<3.8.0,>=3.7.2->en-core-web-sm==3.7.1) (0.1.5)\n",
            "Requirement already satisfied: click>=8.0.0 in /usr/local/lib/python3.10/dist-packages (from typer<1.0.0,>=0.3.0->spacy<3.8.0,>=3.7.2->en-core-web-sm==3.7.1) (8.1.7)\n",
            "Requirement already satisfied: shellingham>=1.3.0 in /usr/local/lib/python3.10/dist-packages (from typer<1.0.0,>=0.3.0->spacy<3.8.0,>=3.7.2->en-core-web-sm==3.7.1) (1.5.4)\n",
            "Requirement already satisfied: rich>=10.11.0 in /usr/local/lib/python3.10/dist-packages (from typer<1.0.0,>=0.3.0->spacy<3.8.0,>=3.7.2->en-core-web-sm==3.7.1) (13.9.4)\n",
            "Requirement already satisfied: cloudpathlib<1.0.0,>=0.7.0 in /usr/local/lib/python3.10/dist-packages (from weasel<0.5.0,>=0.1.0->spacy<3.8.0,>=3.7.2->en-core-web-sm==3.7.1) (0.20.0)\n",
            "Requirement already satisfied: smart-open<8.0.0,>=5.2.1 in /usr/local/lib/python3.10/dist-packages (from weasel<0.5.0,>=0.1.0->spacy<3.8.0,>=3.7.2->en-core-web-sm==3.7.1) (7.0.5)\n",
            "Requirement already satisfied: MarkupSafe>=2.0 in /usr/local/lib/python3.10/dist-packages (from jinja2->spacy<3.8.0,>=3.7.2->en-core-web-sm==3.7.1) (3.0.2)\n",
            "Requirement already satisfied: marisa-trie>=0.7.7 in /usr/local/lib/python3.10/dist-packages (from language-data>=1.2->langcodes<4.0.0,>=3.2.0->spacy<3.8.0,>=3.7.2->en-core-web-sm==3.7.1) (1.2.1)\n",
            "Requirement already satisfied: markdown-it-py>=2.2.0 in /usr/local/lib/python3.10/dist-packages (from rich>=10.11.0->typer<1.0.0,>=0.3.0->spacy<3.8.0,>=3.7.2->en-core-web-sm==3.7.1) (3.0.0)\n",
            "Requirement already satisfied: pygments<3.0.0,>=2.13.0 in /usr/local/lib/python3.10/dist-packages (from rich>=10.11.0->typer<1.0.0,>=0.3.0->spacy<3.8.0,>=3.7.2->en-core-web-sm==3.7.1) (2.18.0)\n",
            "Requirement already satisfied: wrapt in /usr/local/lib/python3.10/dist-packages (from smart-open<8.0.0,>=5.2.1->weasel<0.5.0,>=0.1.0->spacy<3.8.0,>=3.7.2->en-core-web-sm==3.7.1) (1.16.0)\n",
            "Requirement already satisfied: mdurl~=0.1 in /usr/local/lib/python3.10/dist-packages (from markdown-it-py>=2.2.0->rich>=10.11.0->typer<1.0.0,>=0.3.0->spacy<3.8.0,>=3.7.2->en-core-web-sm==3.7.1) (0.1.2)\n",
            "\u001b[38;5;2m✔ Download and installation successful\u001b[0m\n",
            "You can now load the package via spacy.load('en_core_web_sm')\n",
            "\u001b[38;5;3m⚠ Restart to reload dependencies\u001b[0m\n",
            "If you are in a Jupyter or Colab notebook, you may need to restart Python in\n",
            "order to load all the package's dependencies. You can do this by selecting the\n",
            "'Restart kernel' or 'Restart runtime' option.\n"
          ]
        }
      ]
    },
    {
      "cell_type": "markdown",
      "source": [
        "Step 2: Import Libraries\n",
        " Importing required modules for NLP tasks and visualization.\n",
        " Transformer models (T5 and BART) and their tokenizers are used for conditional text generation.\n",
        " Trainer and TrainingArguments are used for fine-tuning the models.\n",
        " DatasetDict is used to handle datasets, while NLTK and other modules aid in text processing and evaluation."
      ],
      "metadata": {
        "id": "aJ9ZCxSx0aT9"
      }
    },
    {
      "cell_type": "code",
      "source": [
        "from transformers import T5ForConditionalGeneration, T5Tokenizer, BartForConditionalGeneration, BartTokenizer, Trainer, TrainingArguments\n",
        "from datasets import load_dataset, DatasetDict\n",
        "import nltk  # NLTK is used for natural language processing tasks, like tokenization and evaluation.\n",
        "import random  # For random sampling or shuffling when required.\n",
        "import matplotlib.pyplot as plt  # For visualizing data or results, e.g., creating plots.\n",
        "from nltk.translate.gleu_score import sentence_gleu  # To compute GLEU scores for evaluating generated text quality.\n",
        "from wordcloud import WordCloud  # To create word clouds for visual representation of text data.\n",
        "from nltk.corpus import stopwords  # To remove commonly used words that may not add meaningful context.\n",
        "import spacy  # For advanced NLP tasks like tokenization, lemmatization, and named entity recognition.\n",
        "\n",
        "# Downloading necessary NLTK data files to ensure smooth execution of NLTK-related tasks.\n",
        "nltk.download(\"punkt\")  # Required for tokenizing sentences and words in text data.\n",
        "nltk.download(\"stopwords\")  # Provides a list of common stop words for filtering irrelevant words.\n",
        "\n",
        "# Defining the set of English stop words, which can be used to preprocess text data by removing unimportant words.\n",
        "stop_words = set(stopwords.words(\"english\"))\n",
        "\n"
      ],
      "metadata": {
        "id": "3vIZ7Vq6zspq",
        "colab": {
          "base_uri": "https://localhost:8080/"
        },
        "outputId": "9cc71058-fa8c-43b9-8a58-8ffea18965b1"
      },
      "execution_count": null,
      "outputs": [
        {
          "output_type": "stream",
          "name": "stderr",
          "text": [
            "[nltk_data] Downloading package punkt to /root/nltk_data...\n",
            "[nltk_data]   Package punkt is already up-to-date!\n",
            "[nltk_data] Downloading package stopwords to /root/nltk_data...\n",
            "[nltk_data]   Package stopwords is already up-to-date!\n"
          ]
        }
      ]
    },
    {
      "cell_type": "markdown",
      "source": [
        "Step 3: Load and Split Dataset\n",
        "   Load the JFLEG dataset, which is designed for evaluating grammar and language error correction systems.\n",
        "\n",
        " The dataset contains a mix of original and corrected sentences, useful for tasks like text correction."
      ],
      "metadata": {
        "id": "RkO3eWPF0jH3"
      }
    },
    {
      "cell_type": "code",
      "source": [
        "dataset = load_dataset(\"jhu-clsp/jfleg\")\n",
        "\n",
        "# Splitting the 'validation' set into train and validation subsets for training purposes.\n",
        "train_test_split = dataset['validation'].train_test_split(test_size=0.2)\n",
        "\n",
        "# Reorganizing the dataset into a DatasetDict with 'train', 'validation', and 'test' subsets.\n",
        "# This allows for structured access and usage of each subset during model training and evaluation.\n",
        "dataset = DatasetDict({\n",
        "    'train': train_test_split['train'],      # The new training set derived from the validation split.\n",
        "    'validation': train_test_split['test'], # The remaining 20% serves as the validation set.\n",
        "    'test': dataset['test']                 # The original 'test' set remains unchanged.\n",
        "})\n",
        "\n",
        "# Displaying the sizes of each dataset split for verification and debugging purposes.\n",
        "# This confirms the splits were performed as intended.\n",
        "print(f\"Dataset sizes: { {split: len(dataset[split]) for split in dataset.keys()} }\")\n"
      ],
      "metadata": {
        "colab": {
          "base_uri": "https://localhost:8080/"
        },
        "id": "fPYWxWKazxNV",
        "outputId": "8b6aac13-3807-4264-ad51-955b8c268981"
      },
      "execution_count": null,
      "outputs": [
        {
          "output_type": "stream",
          "name": "stdout",
          "text": [
            "Dataset sizes: {'train': 604, 'validation': 151, 'test': 748}\n"
          ]
        }
      ]
    },
    {
      "cell_type": "markdown",
      "source": [
        "Step 4: Data Augmentation\n",
        "\n",
        " Function to introduce errors into a sentence for data augmentation.\n",
        "\n",
        "  This simulates common grammatical errors to train a robust grammar correction model.\n"
      ],
      "metadata": {
        "id": "MCSrkm0SSt9m"
      }
    },
    {
      "cell_type": "code",
      "source": [
        "def augment_with_errors(sentence, correction):\n",
        "    modified_sentence = sentence  # Start with the original sentence.\n",
        "\n",
        "    # Introduce article misuse by swapping 'a' with 'the' or vice versa.\n",
        "    if \" a \" in modified_sentence and random.random() > 0.5:\n",
        "        modified_sentence = modified_sentence.replace(\" a \", \" the \", 1)  # Replace the first occurrence of 'a' with 'the'.\n",
        "    elif \" the \" in modified_sentence and random.random() > 0.5:\n",
        "        modified_sentence = modified_sentence.replace(\" the \", \" a \", 1)  # Replace the first occurrence of 'the' with 'a'.\n",
        "\n",
        "    # Introduce subject-verb agreement errors.\n",
        "    if \" is \" in modified_sentence and random.random() > 0.5:\n",
        "        modified_sentence = modified_sentence.replace(\" is \", \" are \", 1)  # Swap singular with plural verb.\n",
        "    elif \" are \" in modified_sentence and random.random() > 0.5:\n",
        "        modified_sentence = modified_sentence.replace(\" are \", \" is \", 1)  # Swap plural with singular verb.\n",
        "\n",
        "    # Simulate tense inconsistency by changing verb tense.\n",
        "    if \" was \" in modified_sentence and \"ing\" in modified_sentence and random.random() > 0.5:\n",
        "        modified_sentence = modified_sentence.replace(\" was \", \" is \", 1).replace(\"ing\", \"ed\", 1)  # Change past continuous to present perfect.\n",
        "    elif \" ate \" in modified_sentence and random.random() > 0.5:\n",
        "        modified_sentence = modified_sentence.replace(\" ate \", \" eat \", 1)  # Change past tense to present tense.\n",
        "\n",
        "    # Introduce preposition misuse by swapping 'in' with 'on' or vice versa.\n",
        "    if \" in \" in modified_sentence and random.random() > 0.5:\n",
        "        modified_sentence = modified_sentence.replace(\" in \", \" on \", 1)  # Replace 'in' with 'on'.\n",
        "    elif \" on \" in modified_sentence and random.random() > 0.5:\n",
        "        modified_sentence = modified_sentence.replace(\" on \", \" in \", 1)  # Replace 'on' with 'in'.\n",
        "\n",
        "    return modified_sentence, correction  # Return the modified sentence along with its original correction.\n",
        "\n",
        "# Function to augment a batch of sentences with simulated errors.\n",
        "def augment_dataset(batch):\n",
        "    augmented_sentences = []  # List to store augmented sentences.\n",
        "    augmented_corrections = []  # List to store corresponding corrections.\n",
        "\n",
        "    # Iterate through each sentence and its corresponding correction.\n",
        "    for sentence, correction in zip(batch[\"sentence\"], batch[\"corrections\"]):\n",
        "        correction = correction[0] if correction else sentence  # Use the original sentence if no corrections are provided.\n",
        "        augmented_sentence, correction = augment_with_errors(sentence, correction)  # Generate augmented data.\n",
        "        augmented_sentences.append(augmented_sentence)  # Add augmented sentence to the list.\n",
        "        augmented_corrections.append(correction)  # Add corresponding correction to the list.\n",
        "\n",
        "    # Return the augmented batch as a dictionary.\n",
        "    return {\"sentence\": augmented_sentences, \"corrections\": augmented_corrections}\n",
        "\n",
        "# Augment the training dataset with simulated errors.\n",
        "# The map function applies the augment_dataset function to each batch in the 'train' dataset.\n",
        "augmented_train_dataset = dataset[\"train\"].map(augment_dataset, batched=True)\n",
        "\n",
        "# Combine the original training data with the augmented data.\n",
        "# This increases the diversity of the training dataset for improved model generalization.\n",
        "combined_train_dataset = {\n",
        "    \"sentence\": dataset[\"train\"][\"sentence\"] + augmented_train_dataset[\"sentence\"],  # Combine original and augmented sentences.\n",
        "    \"corrections\": dataset[\"train\"][\"corrections\"] + augmented_train_dataset[\"corrections\"],  # Combine original and augmented corrections.\n",
        "}\n"
      ],
      "metadata": {
        "id": "EQkLBZ7nSum_"
      },
      "execution_count": null,
      "outputs": []
    },
    {
      "cell_type": "markdown",
      "source": [
        "Step 5: Normalize Dataset\n",
        "\n",
        "   Function to normalize a dataset by ensuring all sentences and corrections are strings.\n",
        "\n",
        " This is important to avoid type errors and maintain consistency during training and evaluation."
      ],
      "metadata": {
        "id": "oY5omSQV0nlB"
      }
    },
    {
      "cell_type": "code",
      "source": [
        "def normalize_combined_dataset(dataset):\n",
        "    normalized_sentences = []  # List to store normalized sentences.\n",
        "    normalized_corrections = []  # List to store normalized corrections.\n",
        "\n",
        "    # Iterate through each sentence and its corresponding correction in the dataset.\n",
        "    for sentence, correction in zip(dataset[\"sentence\"], dataset[\"corrections\"]):\n",
        "        # Ensure the sentence is a string. If not, convert it to a string.\n",
        "        if not isinstance(sentence, str):\n",
        "            sentence = str(sentence)\n",
        "        normalized_sentences.append(sentence)  # Add the normalized sentence to the list.\n",
        "\n",
        "        # Ensure corrections are strings. If it's a list, use the first element if available.\n",
        "        if isinstance(correction, list):\n",
        "            correction = correction[0] if correction else \"\"  # Handle empty lists gracefully.\n",
        "        if not isinstance(correction, str):\n",
        "            correction = str(correction)  # Convert non-string corrections to strings.\n",
        "        normalized_corrections.append(correction)  # Add the normalized correction to the list.\n",
        "\n",
        "    # Return the normalized dataset as a dictionary.\n",
        "    return {\"sentence\": normalized_sentences, \"corrections\": normalized_corrections}\n",
        "\n",
        "# Normalize the combined training dataset to ensure uniform data types.\n",
        "# This step avoids potential issues during model training due to type mismatches.\n",
        "combined_train_dataset = normalize_combined_dataset(combined_train_dataset)\n",
        "\n",
        "from datasets import Dataset  # Import Dataset class from Hugging Face's datasets library.\n",
        "combined_train_dataset = Dataset.from_dict(combined_train_dataset)  # Create a Dataset object from the dictionary.\n"
      ],
      "metadata": {
        "id": "tyfT6obPzzLG"
      },
      "execution_count": null,
      "outputs": []
    },
    {
      "cell_type": "markdown",
      "source": [
        "Step 6: Preprocessing\n",
        "\n",
        "Function to preprocess the dataset for input into the model.\n",
        "\n",
        " It prepares the source sentences and target corrections for tokenization."
      ],
      "metadata": {
        "id": "yoRRrzug0s_H"
      }
    },
    {
      "cell_type": "code",
      "source": [
        "def preprocess_function(examples, tokenizer):\n",
        "    # Prefixing each input sentence with \"fix:\" to specify the task for the model (grammar correction).\n",
        "    # This is especially useful for T5-like models that rely on task-specific prefixes.\n",
        "    inputs = [\"fix: \" + sentence for sentence in examples[\"sentence\"]]\n",
        "\n",
        "    # Ensure target corrections are strings. If corrections are lists, take the first correction.\n",
        "    targets = [\n",
        "        correction if isinstance(correction, str) else correction[0]\n",
        "        for correction in examples[\"corrections\"]\n",
        "    ]\n",
        "\n",
        "    # Tokenize the input sentences.\n",
        "    tokenized_inputs = tokenizer(\n",
        "        inputs, max_length=128, truncation=True, padding=\"max_length\"\n",
        "    )\n",
        "\n",
        "    # Tokenize the target sentences (corrections) using the same settings as the inputs.\n",
        "    tokenized_targets = tokenizer(\n",
        "        targets, max_length=128, truncation=True, padding=\"max_length\"\n",
        "    )\n",
        "\n",
        "    # Return tokenized inputs and targets in the format expected by Hugging Face models.\n",
        "    return {\n",
        "        \"input_ids\": tokenized_inputs[\"input_ids\"],  # Encoded input tokens.\n",
        "        \"attention_mask\": tokenized_inputs[\"attention_mask\"],  # Attention mask for padding.\n",
        "        \"labels\": tokenized_targets[\"input_ids\"],  # Encoded target tokens (used as labels).\n",
        "    }\n",
        "\n",
        "# Load tokenizers for the T5 and BART models.\n",
        "# These tokenizers convert text into token IDs suitable for input into their respective models.\n",
        "t5_tokenizer = T5Tokenizer.from_pretrained(\"t5-base\")  # T5 tokenizer.\n",
        "bart_tokenizer = BartTokenizer.from_pretrained(\"facebook/bart-base\")  # BART tokenizer.\n",
        "\n",
        "# Tokenize datasets for T5 model.\n",
        "# The `map` function applies the preprocessing function to the entire dataset in a batched manner.\n",
        "tokenized_train_t5 = combined_train_dataset.map(\n",
        "    lambda batch: preprocess_function(batch, t5_tokenizer), batched=True\n",
        ")\n",
        "tokenized_validation_t5 = dataset[\"validation\"].map(\n",
        "    lambda batch: preprocess_function(batch, t5_tokenizer), batched=True\n",
        ")\n",
        "tokenized_test_t5 = dataset[\"test\"].map(\n",
        "    lambda batch: preprocess_function(batch, t5_tokenizer), batched=True\n",
        ")\n",
        "\n",
        "# Tokenize datasets for BART model.\n",
        "tokenized_train_bart = combined_train_dataset.map(\n",
        "    lambda batch: preprocess_function(batch, bart_tokenizer), batched=True\n",
        ")\n",
        "tokenized_validation_bart = dataset[\"validation\"].map(\n",
        "    lambda batch: preprocess_function(batch, bart_tokenizer), batched=True\n",
        ")\n",
        "tokenized_test_bart = dataset[\"test\"].map(\n",
        "    lambda batch: preprocess_function(batch, bart_tokenizer), batched=True\n",
        ")\n",
        "\n",
        "# Print tokenized datasets to verify successful preprocessing.\n",
        "print(\"T5 Train Dataset:\", tokenized_train_t5)  # Display tokenized training dataset for T5.\n",
        "print(\"BART Train Dataset:\", tokenized_train_bart)  # Display tokenized training dataset for BART.\n"
      ],
      "metadata": {
        "id": "yO_uM7JsYmxi",
        "outputId": "65325bd3-3ee5-42f3-aa31-12ec77f188e3",
        "colab": {
          "base_uri": "https://localhost:8080/",
          "height": 281,
          "referenced_widgets": [
            "d4d73e40616d48768d721ddf2f661b78",
            "31631dfee15645efbee110da7b1b776a",
            "4e5366e0d8fd4ff1a68d0380c6773b2f",
            "936fc1749acd4383b44ea8f4fd064c06",
            "d11e91597f394f81aff91b9e96b5e4b5",
            "521921894d3c4612811eb17773b77fad",
            "1324a47418854651a9705b1b287c507c",
            "936e425edc934a8fa956fdc114cfe640",
            "da93d2394e5b4458965fbc9bac97281b",
            "312c3db4c57c41a2a93cd8623efbda7c",
            "f39cd7ab0dd94f418f85c6022b1c208d",
            "7f822438f6f0468f90a2fc42763cdb20",
            "fce35b27523843a28e9f043a4a5b21ad",
            "b88c39917b8d4fffbaff076ce4db6f78",
            "c6f6cfe4c878472ca43d98f84710a3e7",
            "7709930f6f864befa191cf5e1fa321cb",
            "5877c5151d17490d866d1ff004beee8b",
            "5b1b9a111e3d4285b9b8c8fb5c0a79e0",
            "c04e9240f52644c0840d43743ba5a06c",
            "db9a851e42a74f5ab557873034ead488",
            "143c3bf00f8543e59c523056e50e1ade",
            "74fd36bae4a64de7b76ce37954c60247",
            "1e35c32ee2a34b3d8d15a76f9936c916",
            "9342ae1499654e50b5ce39e0e901f41a",
            "5ddf0329fc754ce0b7d25d61da31ad1b",
            "cc7eff4f9b8941d5b4b47a6476fec77f",
            "5e63163c6dfa407396aa4748cab25efe",
            "9a502e9d1ba74ea7b92d2c18519d9457",
            "030f5c02eae3425ea2a8bd3317ef2df3",
            "056ada9526bb44c1a428bbb0b8e86223",
            "9a6c940069274d8baeefbbb8d032cfce",
            "2f1faa95c7624186a5a44ad875c180f8",
            "8862143d674d4b74b0e346cddc31994b",
            "8d92cb1ab4f444e78d468f83c77c9cfc",
            "5686b39984d4457485235563d784bbb3",
            "92615f26048748f89885af15ae62ed55",
            "55231a3c8cd7408ab408ff5888469d02",
            "c09cfb2618724792bd979f5dd4d8b54e",
            "f40ea4320f23444c9ca9a5879d5d47f9",
            "3e72b190ec5543dd952cd349afbaa7f9",
            "b0772524fe1240899a4f549a2d6af9c5",
            "e16d39640af141ccae07d0eb72d4be22",
            "cc87af1b893a462caf378ec2d09426e4",
            "0ee2de0f82a6485585b74702d5c7563b"
          ]
        }
      },
      "execution_count": null,
      "outputs": [
        {
          "output_type": "display_data",
          "data": {
            "text/plain": [
              "Map:   0%|          | 0/1208 [00:00<?, ? examples/s]"
            ],
            "application/vnd.jupyter.widget-view+json": {
              "version_major": 2,
              "version_minor": 0,
              "model_id": "d4d73e40616d48768d721ddf2f661b78"
            }
          },
          "metadata": {}
        },
        {
          "output_type": "display_data",
          "data": {
            "text/plain": [
              "Map:   0%|          | 0/1208 [00:00<?, ? examples/s]"
            ],
            "application/vnd.jupyter.widget-view+json": {
              "version_major": 2,
              "version_minor": 0,
              "model_id": "7f822438f6f0468f90a2fc42763cdb20"
            }
          },
          "metadata": {}
        },
        {
          "output_type": "display_data",
          "data": {
            "text/plain": [
              "Map:   0%|          | 0/151 [00:00<?, ? examples/s]"
            ],
            "application/vnd.jupyter.widget-view+json": {
              "version_major": 2,
              "version_minor": 0,
              "model_id": "1e35c32ee2a34b3d8d15a76f9936c916"
            }
          },
          "metadata": {}
        },
        {
          "output_type": "display_data",
          "data": {
            "text/plain": [
              "Map:   0%|          | 0/748 [00:00<?, ? examples/s]"
            ],
            "application/vnd.jupyter.widget-view+json": {
              "version_major": 2,
              "version_minor": 0,
              "model_id": "8d92cb1ab4f444e78d468f83c77c9cfc"
            }
          },
          "metadata": {}
        },
        {
          "output_type": "stream",
          "name": "stdout",
          "text": [
            "T5 Train Dataset: Dataset({\n",
            "    features: ['sentence', 'corrections', 'input_ids', 'attention_mask', 'labels'],\n",
            "    num_rows: 1208\n",
            "})\n",
            "BART Train Dataset: Dataset({\n",
            "    features: ['sentence', 'corrections', 'input_ids', 'attention_mask', 'labels'],\n",
            "    num_rows: 1208\n",
            "})\n"
          ]
        }
      ]
    },
    {
      "cell_type": "markdown",
      "source": [
        "Step 7: Load Models"
      ],
      "metadata": {
        "id": "pgpNl5DQYsAa"
      }
    },
    {
      "cell_type": "code",
      "source": [
        "# Load the pre-trained T5 model and move it to the GPU for faster computation.\n",
        "# The T5 model is designed for conditional generation tasks, including text-to-text tasks like grammar correction.\n",
        "t5_model = T5ForConditionalGeneration.from_pretrained(\"t5-base\").to(\"cuda\")\n",
        "\n",
        "# Load the pre-trained BART model and move it to the GPU for faster computation.\n",
        "# The BART model is an encoder-decoder model also well-suited for conditional text generation tasks.\n",
        "bart_model = BartForConditionalGeneration.from_pretrained(\"facebook/bart-base\").to(\"cuda\")\n"
      ],
      "metadata": {
        "id": "ZKFi9rrnz1rR"
      },
      "execution_count": null,
      "outputs": []
    },
    {
      "cell_type": "markdown",
      "source": [
        "Step 8: Training\n",
        "Define training arguments for the model fine-tuning process using the `TrainingArguments` class.\n",
        "\n",
        "These arguments control the training and evaluation configurations."
      ],
      "metadata": {
        "id": "Qabo7vfX00uc"
      }
    },
    {
      "cell_type": "code",
      "source": [
        "\n",
        "training_args = TrainingArguments(\n",
        "    output_dir=\"./finetuned_t5\",  # Directory where the fine-tuned T5 model will be saved.\n",
        "    evaluation_strategy=\"epoch\",  # Evaluate the model after every epoch.\n",
        "    learning_rate=5e-5,  # Set the learning rate for the optimizer.\n",
        "    per_device_train_batch_size=8,  # Batch size for training on each device.\n",
        "    per_device_eval_batch_size=8,  # Batch size for evaluation on each device.\n",
        "    num_train_epochs=5,  # Number of epochs to train the model.\n",
        "    weight_decay=0.01,  # Apply weight decay for regularization.\n",
        "    save_total_limit=2,  # Limit the number of saved checkpoints to the most recent two.\n",
        "    report_to=\"none\",  # Disable reporting to external tools (e.g., WandB or TensorBoard).\n",
        ")\n",
        "\n",
        "# Load the pre-trained T5 model and move it to the GPU for fine-tuning.\n",
        "t5_model = T5ForConditionalGeneration.from_pretrained(\"t5-base\").to(\"cuda\")\n",
        "\n",
        "# Create a `Trainer` instance for fine-tuning the T5 model.\n",
        "# The trainer automates the training and evaluation loops.\n",
        "t5_trainer = Trainer(\n",
        "    model=t5_model,  # The T5 model to fine-tune.\n",
        "    args=training_args,  # The training arguments defined above.\n",
        "    train_dataset=tokenized_train_t5,  # The tokenized training dataset for T5.\n",
        "    eval_dataset=tokenized_validation_t5,  # The tokenized validation dataset for T5.\n",
        ")\n",
        "\n",
        "# Train the T5 model using the specified training arguments and datasets.\n",
        "t5_trainer.train()\n",
        "\n",
        "# Load the pre-trained BART model and move it to the GPU for fine-tuning.\n",
        "bart_model = BartForConditionalGeneration.from_pretrained(\"facebook/bart-base\").to(\"cuda\")\n",
        "\n",
        "# Update the output directory for the BART model fine-tuning to avoid overwriting the T5 outputs.\n",
        "training_args.output_dir = \"./finetuned_bart\"\n",
        "\n",
        "# Create a `Trainer` instance for fine-tuning the BART model.\n",
        "bart_trainer = Trainer(\n",
        "    model=bart_model,  # The BART model to fine-tune.\n",
        "    args=training_args,  # The same training arguments with an updated output directory.\n",
        "    train_dataset=tokenized_train_bart,  # The tokenized training dataset for BART.\n",
        "    eval_dataset=tokenized_validation_bart,  # The tokenized validation dataset for BART.\n",
        ")\n",
        "\n",
        "# Train the BART model using the specified training arguments and datasets.\n",
        "bart_trainer.train()\n"
      ],
      "metadata": {
        "colab": {
          "base_uri": "https://localhost:8080/",
          "height": 599
        },
        "id": "ijQ8HM3Uz7pB",
        "outputId": "d19a2d4f-bfc1-4062-c5e3-55f218e07b1e"
      },
      "execution_count": null,
      "outputs": [
        {
          "output_type": "stream",
          "name": "stderr",
          "text": [
            "/usr/local/lib/python3.10/dist-packages/transformers/training_args.py:1568: FutureWarning: `evaluation_strategy` is deprecated and will be removed in version 4.46 of 🤗 Transformers. Use `eval_strategy` instead\n",
            "  warnings.warn(\n"
          ]
        },
        {
          "output_type": "display_data",
          "data": {
            "text/plain": [
              "<IPython.core.display.HTML object>"
            ],
            "text/html": [
              "\n",
              "    <div>\n",
              "      \n",
              "      <progress value='755' max='755' style='width:300px; height:20px; vertical-align: middle;'></progress>\n",
              "      [755/755 08:46, Epoch 5/5]\n",
              "    </div>\n",
              "    <table border=\"1\" class=\"dataframe\">\n",
              "  <thead>\n",
              " <tr style=\"text-align: left;\">\n",
              "      <th>Epoch</th>\n",
              "      <th>Training Loss</th>\n",
              "      <th>Validation Loss</th>\n",
              "    </tr>\n",
              "  </thead>\n",
              "  <tbody>\n",
              "    <tr>\n",
              "      <td>1</td>\n",
              "      <td>No log</td>\n",
              "      <td>0.113926</td>\n",
              "    </tr>\n",
              "    <tr>\n",
              "      <td>2</td>\n",
              "      <td>No log</td>\n",
              "      <td>0.108792</td>\n",
              "    </tr>\n",
              "    <tr>\n",
              "      <td>3</td>\n",
              "      <td>No log</td>\n",
              "      <td>0.108878</td>\n",
              "    </tr>\n",
              "    <tr>\n",
              "      <td>4</td>\n",
              "      <td>0.424100</td>\n",
              "      <td>0.110803</td>\n",
              "    </tr>\n",
              "    <tr>\n",
              "      <td>5</td>\n",
              "      <td>0.424100</td>\n",
              "      <td>0.111324</td>\n",
              "    </tr>\n",
              "  </tbody>\n",
              "</table><p>"
            ]
          },
          "metadata": {}
        },
        {
          "output_type": "display_data",
          "data": {
            "text/plain": [
              "<IPython.core.display.HTML object>"
            ],
            "text/html": [
              "\n",
              "    <div>\n",
              "      \n",
              "      <progress value='755' max='755' style='width:300px; height:20px; vertical-align: middle;'></progress>\n",
              "      [755/755 05:09, Epoch 5/5]\n",
              "    </div>\n",
              "    <table border=\"1\" class=\"dataframe\">\n",
              "  <thead>\n",
              " <tr style=\"text-align: left;\">\n",
              "      <th>Epoch</th>\n",
              "      <th>Training Loss</th>\n",
              "      <th>Validation Loss</th>\n",
              "    </tr>\n",
              "  </thead>\n",
              "  <tbody>\n",
              "    <tr>\n",
              "      <td>1</td>\n",
              "      <td>No log</td>\n",
              "      <td>0.142441</td>\n",
              "    </tr>\n",
              "    <tr>\n",
              "      <td>2</td>\n",
              "      <td>No log</td>\n",
              "      <td>0.148328</td>\n",
              "    </tr>\n",
              "    <tr>\n",
              "      <td>3</td>\n",
              "      <td>No log</td>\n",
              "      <td>0.164030</td>\n",
              "    </tr>\n",
              "    <tr>\n",
              "      <td>4</td>\n",
              "      <td>0.616300</td>\n",
              "      <td>0.173990</td>\n",
              "    </tr>\n",
              "    <tr>\n",
              "      <td>5</td>\n",
              "      <td>0.616300</td>\n",
              "      <td>0.177907</td>\n",
              "    </tr>\n",
              "  </tbody>\n",
              "</table><p>"
            ]
          },
          "metadata": {}
        },
        {
          "output_type": "stream",
          "name": "stderr",
          "text": [
            "/usr/local/lib/python3.10/dist-packages/transformers/modeling_utils.py:2817: UserWarning: Moving the following attributes in the config to the generation config: {'early_stopping': True, 'num_beams': 4, 'no_repeat_ngram_size': 3, 'forced_bos_token_id': 0}. You are seeing this warning because you've set generation parameters in the model config, as opposed to in the generation config.\n",
            "  warnings.warn(\n"
          ]
        },
        {
          "output_type": "execute_result",
          "data": {
            "text/plain": [
              "TrainOutput(global_step=755, training_loss=0.4136684133517032, metrics={'train_runtime': 310.2176, 'train_samples_per_second': 19.47, 'train_steps_per_second': 2.434, 'total_flos': 460351025971200.0, 'train_loss': 0.4136684133517032, 'epoch': 5.0})"
            ]
          },
          "metadata": {},
          "execution_count": 74
        }
      ]
    },
    {
      "cell_type": "markdown",
      "source": [
        "Step 9: Grammer Correction"
      ],
      "metadata": {
        "id": "F-F_BaPw04IZ"
      }
    },
    {
      "cell_type": "code",
      "source": [
        "def correct_grammar(sentence, model_name=\"t5\"):\n",
        "\n",
        "    # Select tokenizer and model based on the specified model_name.\n",
        "    # If model_name is \"t5\", use the T5 tokenizer and model.\n",
        "    # Otherwise, use the BART tokenizer and model.\n",
        "    tokenizer, model = (t5_tokenizer, t5_model) if model_name == \"t5\" else (bart_tokenizer, bart_model)\n",
        "\n",
        "    # Prepare the input sentence by prefixing it with \"fix:\" to match the model's task prompt.\n",
        "    input_text = f\"fix: {sentence}\"\n",
        "\n",
        "    # Tokenize the input sentence, converting it to model-ready tensor format.\n",
        "    # The `return_tensors=\"pt\"` ensures the output is in PyTorch tensor format.\n",
        "    # `.to(\"cuda\")` moves the tensor to the GPU for faster computation.\n",
        "    input_ids = tokenizer(input_text, return_tensors=\"pt\").input_ids.to(\"cuda\")\n",
        "\n",
        "    # Use the model to generate the corrected sentence.\n",
        "    # - max_length: Sets the maximum token length of the generated text.\n",
        "    # - num_beams: Uses beam search with 4 beams for higher-quality generation.\n",
        "    # - early_stopping: Stops generation early when all beams agree on the output.\n",
        "    outputs = model.generate(input_ids, max_length=128, num_beams=4, early_stopping=True)\n",
        "\n",
        "    # Decode the generated token IDs back into a human-readable sentence.\n",
        "    # `skip_special_tokens=True` removes tokens like <pad> or <eos>.\n",
        "    corrected_sentence = tokenizer.decode(outputs[0], skip_special_tokens=True)\n",
        "\n",
        "    # Return the corrected sentence.\n",
        "    return corrected_sentence\n"
      ],
      "metadata": {
        "id": "6bLm7orTz9y1"
      },
      "execution_count": null,
      "outputs": []
    },
    {
      "cell_type": "markdown",
      "source": [
        "Step 10: GLEU Score for T5 and BART"
      ],
      "metadata": {
        "id": "vvW7OQ0hZqMo"
      }
    },
    {
      "cell_type": "code",
      "source": [
        "from nltk.translate.gleu_score import sentence_gleu\n",
        "\n",
        "def evaluate_gleu(corrected_sentences, reference_sentences):\n",
        "\n",
        "    gleu_scores = []\n",
        "\n",
        "    # Iterate through each corrected sentence and its corresponding reference\n",
        "    for corrected_sentence, references in zip(corrected_sentences, reference_sentences):\n",
        "        # Tokenize the corrected sentence and references into words (tokens)\n",
        "        corrected_tokens = corrected_sentence.split()\n",
        "        reference_tokens = [ref.split() for ref in references]  # Multiple references\n",
        "\n",
        "        # Calculate the GLEU score for the current sentence\n",
        "        gleu_score = sentence_gleu(reference_tokens, corrected_tokens)\n",
        "        gleu_scores.append(gleu_score)\n",
        "\n",
        "    # Calculate the average GLEU score by averaging across all sentences\n",
        "    avg_gleu_score = sum(gleu_scores) / len(gleu_scores)\n",
        "    return avg_gleu_score\n",
        "\n",
        "def evaluate_model_gleu(dataset, model_name=\"t5\"):\n",
        "\n",
        "    corrected_sentences = []  # List to store the model-generated corrections\n",
        "    reference_sentences = []  # List to store the ground truth corrections\n",
        "\n",
        "    # Iterate through each example in the dataset\n",
        "    for example in dataset:\n",
        "        # Correct the sentence using the specified model (T5 or BART)\n",
        "        corrected_sentence = correct_grammar(example[\"sentence\"], model_name)\n",
        "        corrected_sentences.append(corrected_sentence)\n",
        "        reference_sentences.append(example[\"corrections\"])\n",
        "\n",
        "    # Calculate the average GLEU score for the batch of sentences\n",
        "    avg_gleu_score = evaluate_gleu(corrected_sentences, reference_sentences)\n",
        "\n",
        "    # Print and return the average GLEU score\n",
        "    print(f\"Average GLEU Score ({model_name.upper()}): {avg_gleu_score:.4f}\")\n",
        "    return avg_gleu_score\n",
        "\n",
        "\n",
        "# Evaluate T5 Model on the Test Set\n",
        "print(\"Evaluating T5 Model on Test Set:\")\n",
        "t5_gleu_score = evaluate_model_gleu(dataset[\"test\"], model_name=\"t5\")\n",
        "\n",
        "# Evaluate BART Model on the Test Set\n",
        "print(\"\\nEvaluating BART Model on Test Set:\")\n",
        "bart_gleu_score = evaluate_model_gleu(dataset[\"test\"], model_name=\"bart\")\n"
      ],
      "metadata": {
        "id": "GJeYLVosZqWy",
        "outputId": "199e11b8-38c3-4b2c-9407-fd4ad2821362",
        "colab": {
          "base_uri": "https://localhost:8080/"
        }
      },
      "execution_count": null,
      "outputs": [
        {
          "output_type": "stream",
          "name": "stdout",
          "text": [
            "Evaluating T5 Model on Test Set:\n",
            "Average GLEU Score (T5): 0.8049\n",
            "\n",
            "Evaluating BART Model on Test Set:\n",
            "Average GLEU Score (BART): 0.7744\n"
          ]
        }
      ]
    },
    {
      "cell_type": "markdown",
      "source": [
        "Step 11: Feedback Function"
      ],
      "metadata": {
        "id": "hActdIOp1AZT"
      }
    },
    {
      "cell_type": "code",
      "source": [
        "import openai\n",
        "\n",
        "openai.api_key = \"Insert the api key here\"\n",
        "\n",
        "def provide_feedback(sentence):\n",
        "    # Construct the prompt for the GPT model to analyze the sentence\n",
        "    prompt = f\"\"\"The sentence is: '{sentence}'\n",
        "    Please analyze its grammatical correctness, focusing on:\n",
        "    - Incorrect use of articles\n",
        "    - Subject-verb agreement\n",
        "    - Tense consistency\n",
        "    - Preposition misuse\n",
        "    Provide suggestions for improvement.\"\"\"\n",
        "    # Make the API call to OpenAI's GPT-4 model\n",
        "    response = openai.ChatCompletion.create(\n",
        "        model=\"gpt-4\",\n",
        "        messages=[\n",
        "            {\"role\": \"system\", \"content\": \"You are a grammar expert.\"},\n",
        "            {\"role\": \"user\", \"content\": prompt}\n",
        "        ]\n",
        "    )\n",
        "    # Extract and return the feedback from the response\n",
        "    return response['choices'][0]['message']['content']\n",
        "\n"
      ],
      "metadata": {
        "id": "iNWfHtVL0Bsi"
      },
      "execution_count": null,
      "outputs": []
    },
    {
      "cell_type": "markdown",
      "source": [
        "Step 12: Combined Grammar Correction and Feedback"
      ],
      "metadata": {
        "id": "93yFSW0Y3kcl"
      }
    },
    {
      "cell_type": "code",
      "source": [
        "def correct_and_provide_feedback(sentence, model_name=\"t5\"):\n",
        "  # Correct the sentence using the selected model (T5 or BART)\n",
        "    corrected_sentence = correct_grammar(sentence, model_name)\n",
        "    # Provide feedback on the corrected sentence\n",
        "    feedback = provide_feedback(corrected_sentence)\n",
        "    # Print the original sentence, the corrected sentence, and the feedback\n",
        "    print(f\"Original Sentence: {sentence}\")\n",
        "    print(f\"Corrected Sentence ({model_name.upper()}): {corrected_sentence}\")\n",
        "    print(f\"Feedback: {feedback}\")\n",
        "    print(\"=\" * 80)\n",
        "    # Return the corrected sentence and the feedback\n",
        "    return corrected_sentence, feedback\n"
      ],
      "metadata": {
        "id": "C7YS1cDs3qGy"
      },
      "execution_count": null,
      "outputs": []
    },
    {
      "cell_type": "markdown",
      "source": [
        "Step 12: Example Usage"
      ],
      "metadata": {
        "id": "KBYQIneS1DvI"
      }
    },
    {
      "cell_type": "code",
      "source": [
        "# Article\n",
        "sentence = \"i have an idea to visit the europe next summer.\"\n",
        "# Call the function to correct grammar and provide feedback on the sentence\n",
        "correct_and_provide_feedback(sentence, model_name=\"t5\")\n"
      ],
      "metadata": {
        "colab": {
          "base_uri": "https://localhost:8080/"
        },
        "id": "uFr4KpgYFr0k",
        "outputId": "e3a7b7ad-a27d-4380-b986-71c262f828e5"
      },
      "execution_count": null,
      "outputs": [
        {
          "output_type": "stream",
          "name": "stdout",
          "text": [
            "Original Sentence: i have an idea to visit the europe next summer.\n",
            "Corrected Sentence (T5): I have an idea to visit Europe next summer.\n",
            "Feedback: The sentence 'I have an idea to visit Europe next summer.' is grammatically correct. Here are the elements in focus:\n",
            "\n",
            "- Incorrect use of articles: The sentence is accurately using the article 'an' before 'idea,' which is a singular, non-specific countable noun. Moreover, 'Europe' usually does not take an article, which is correct here.\n",
            "   \n",
            "- Subject-verb agreement: The subject 'I' correctly matches with the verb 'have.' It is correct for singular first-person use.\n",
            "\n",
            "- Tense consistency: The sentence remains in the present tense throughout ('I have an idea'), and there is no change of tense that could cause inconsistency.\n",
            "\n",
            "- Preposition misuse: There are no prepositions misused in this sentence. 'To' correctly indicates direction or intended result in the context it is used in the sentence.\n",
            "================================================================================\n"
          ]
        },
        {
          "output_type": "execute_result",
          "data": {
            "text/plain": [
              "('I have an idea to visit Europe next summer.',\n",
              " \"The sentence 'I have an idea to visit Europe next summer.' is grammatically correct. Here are the elements in focus:\\n\\n- Incorrect use of articles: The sentence is accurately using the article 'an' before 'idea,' which is a singular, non-specific countable noun. Moreover, 'Europe' usually does not take an article, which is correct here.\\n   \\n- Subject-verb agreement: The subject 'I' correctly matches with the verb 'have.' It is correct for singular first-person use.\\n\\n- Tense consistency: The sentence remains in the present tense throughout ('I have an idea'), and there is no change of tense that could cause inconsistency.\\n\\n- Preposition misuse: There are no prepositions misused in this sentence. 'To' correctly indicates direction or intended result in the context it is used in the sentence.\")"
            ]
          },
          "metadata": {},
          "execution_count": 90
        }
      ]
    },
    {
      "cell_type": "code",
      "source": [
        "# Article\n",
        "\n",
        "sentence = \"he is a honest person.\"\n",
        "correct_and_provide_feedback(sentence, model_name=\"t5\")"
      ],
      "metadata": {
        "id": "Xu0wEaqypd7y",
        "outputId": "48afc732-ec4c-4732-cd12-e4b9e09193ba",
        "colab": {
          "base_uri": "https://localhost:8080/"
        }
      },
      "execution_count": null,
      "outputs": [
        {
          "output_type": "stream",
          "name": "stdout",
          "text": [
            "Original Sentence: he is a honest person.\n",
            "Corrected Sentence (T5): He is an honest person.\n",
            "Feedback: The sentence 'He is an honest person.' is grammatically correct considering all the factors you've listed.\n",
            "\n",
            "- Regarding the use of articles: The indefinite article 'an' is correctly used before 'honest', which starts with a vowel sound.\n",
            "- Regarding subject-verb agreement: The singular subject 'He' correctly matches the third person singular form 'is'. \n",
            "- Regarding tense consistency: The sentence is in the present tense all throughout, making it consistent.\n",
            "- Regarding preposition misuse: There are no prepositions used in this sentence, therefore, there is no misuse. \n",
            "\n",
            "This sentence doesn't require any improvements as it is perfectly correct in its current form.\n",
            "================================================================================\n"
          ]
        },
        {
          "output_type": "execute_result",
          "data": {
            "text/plain": [
              "('He is an honest person.',\n",
              " \"The sentence 'He is an honest person.' is grammatically correct considering all the factors you've listed.\\n\\n- Regarding the use of articles: The indefinite article 'an' is correctly used before 'honest', which starts with a vowel sound.\\n- Regarding subject-verb agreement: The singular subject 'He' correctly matches the third person singular form 'is'. \\n- Regarding tense consistency: The sentence is in the present tense all throughout, making it consistent.\\n- Regarding preposition misuse: There are no prepositions used in this sentence, therefore, there is no misuse. \\n\\nThis sentence doesn't require any improvements as it is perfectly correct in its current form.\")"
            ]
          },
          "metadata": {},
          "execution_count": 110
        }
      ]
    },
    {
      "cell_type": "code",
      "source": [
        "## Subject-Verb Agreement\n",
        "\n",
        "sentence = \"The players in the team is practicing.\"\n",
        "correct_and_provide_feedback(sentence, model_name=\"t5\")\n"
      ],
      "metadata": {
        "id": "4p4jOtD_pF7V",
        "outputId": "f10b4e12-59ea-4f7c-c9a0-d27d72ae7628",
        "colab": {
          "base_uri": "https://localhost:8080/"
        }
      },
      "execution_count": null,
      "outputs": [
        {
          "output_type": "stream",
          "name": "stdout",
          "text": [
            "Original Sentence: The players in the team is practicing.\n",
            "Corrected Sentence (T5): The players in the team are practicing.\n",
            "Feedback: The sentence, 'The players in the team are practicing,' is grammatically correct.\n",
            "\n",
            "- Incorrect use of articles: There's no misuse of articles here. The definite article 'the' correctly refers to a specific group of players and a specific team.\n",
            "\n",
            "- Subject-verb agreement: The subject 'The players' correctly corresponds to the plural verb 'are practicing'. The subject and the verb are in agreement here.\n",
            "\n",
            "- Tense consistency: The sentence is consistent in presenting its idea in the present continuous tense.\n",
            "\n",
            "- Preposition misuse: The preposition 'in' is used correctly to denote that the players belong to the team. \n",
            "\n",
            "No improvements are necessary as the sentence is grammatically sound as it is.\n",
            "================================================================================\n"
          ]
        },
        {
          "output_type": "execute_result",
          "data": {
            "text/plain": [
              "('The players in the team are practicing.',\n",
              " \"The sentence, 'The players in the team are practicing,' is grammatically correct.\\n\\n- Incorrect use of articles: There's no misuse of articles here. The definite article 'the' correctly refers to a specific group of players and a specific team.\\n\\n- Subject-verb agreement: The subject 'The players' correctly corresponds to the plural verb 'are practicing'. The subject and the verb are in agreement here.\\n\\n- Tense consistency: The sentence is consistent in presenting its idea in the present continuous tense.\\n\\n- Preposition misuse: The preposition 'in' is used correctly to denote that the players belong to the team. \\n\\nNo improvements are necessary as the sentence is grammatically sound as it is.\")"
            ]
          },
          "metadata": {},
          "execution_count": 109
        }
      ]
    },
    {
      "cell_type": "code",
      "source": [
        "## Subject-Verb Agreement\n",
        "\n",
        "sentence = \"this apples are on the table .\"\n",
        "correct_and_provide_feedback(sentence, model_name=\"t5\")"
      ],
      "metadata": {
        "id": "0MRheiEBmvl-",
        "outputId": "f9db2cb0-6afa-4166-8fee-894cef5a543f",
        "colab": {
          "base_uri": "https://localhost:8080/"
        }
      },
      "execution_count": null,
      "outputs": [
        {
          "output_type": "stream",
          "name": "stdout",
          "text": [
            "Original Sentence: this apples are on the table  .\n",
            "Corrected Sentence (T5): This apple is on the table .\n",
            "Feedback: The sentence \"This apple is on the table.\" is grammatically correct.\n",
            "\n",
            "- The use of articles: The sentence correctly uses the definite article \"the\" before \"table\" since it is specifically pointing out a unique table. The demonstrative article \"this\" is correctly used before \"apple\" to indicate a specific apple.\n",
            "\n",
            "- Subject-verb agreement: The sentence shows agreement between the subject \"apple\" and the verb \"is.\" This is the correct form of the verb to be for singular third person.\n",
            "\n",
            "- Tense consistency: The sentence is consistent in its use of present tense.\n",
            "\n",
            "- Preposition misuse: The preposition \"on\" has been correctly used to specify the location of the apple.\n",
            "\n",
            "No improvements are required for this sentence, as it is grammatically sound.\n",
            "================================================================================\n"
          ]
        },
        {
          "output_type": "execute_result",
          "data": {
            "text/plain": [
              "('This apple is on the table .',\n",
              " 'The sentence \"This apple is on the table.\" is grammatically correct.\\n\\n- The use of articles: The sentence correctly uses the definite article \"the\" before \"table\" since it is specifically pointing out a unique table. The demonstrative article \"this\" is correctly used before \"apple\" to indicate a specific apple.\\n\\n- Subject-verb agreement: The sentence shows agreement between the subject \"apple\" and the verb \"is.\" This is the correct form of the verb to be for singular third person.\\n\\n- Tense consistency: The sentence is consistent in its use of present tense.\\n\\n- Preposition misuse: The preposition \"on\" has been correctly used to specify the location of the apple.\\n\\nNo improvements are required for this sentence, as it is grammatically sound.')"
            ]
          },
          "metadata": {},
          "execution_count": 98
        }
      ]
    },
    {
      "cell_type": "code",
      "source": [
        "## Preposition\n",
        "\n",
        "sentence = \"He is good on mathematics.\"\n",
        "correct_and_provide_feedback(sentence, model_name=\"t5\")"
      ],
      "metadata": {
        "id": "emlmPhrDlgYK",
        "outputId": "e45b9df4-4cb2-4717-d411-c53c8515b42c",
        "colab": {
          "base_uri": "https://localhost:8080/"
        }
      },
      "execution_count": null,
      "outputs": [
        {
          "output_type": "stream",
          "name": "stdout",
          "text": [
            "Original Sentence: He is good on mathematics.\n",
            "Corrected Sentence (T5): He is good at mathematics.\n",
            "Feedback: The sentence 'He is good at mathematics.' is grammatically correct. Here's why:\n",
            "\n",
            "- Incorrect use of articles: The sentence does not require an article, so there is no issue here.\n",
            "- Subject-verb agreement: The singular subject 'He' correctly corresponds with the singular verb 'is'.\n",
            "- Tense consistency: The entire sentence is in the present tense, so there are no tense consistency errors.\n",
            "- Preposition misuse: The preposition 'at' is correctly used to indicate proficiency in some area, in this case, mathematics.\n",
            "\n",
            "No suggestions for improvement as the sentence is grammatically perfect.\n",
            "================================================================================\n"
          ]
        },
        {
          "output_type": "execute_result",
          "data": {
            "text/plain": [
              "('He is good at mathematics.',\n",
              " \"The sentence 'He is good at mathematics.' is grammatically correct. Here's why:\\n\\n- Incorrect use of articles: The sentence does not require an article, so there is no issue here.\\n- Subject-verb agreement: The singular subject 'He' correctly corresponds with the singular verb 'is'.\\n- Tense consistency: The entire sentence is in the present tense, so there are no tense consistency errors.\\n- Preposition misuse: The preposition 'at' is correctly used to indicate proficiency in some area, in this case, mathematics.\\n\\nNo suggestions for improvement as the sentence is grammatically perfect.\")"
            ]
          },
          "metadata": {},
          "execution_count": 97
        }
      ]
    },
    {
      "cell_type": "code",
      "source": [
        "## Preposition\n",
        "\n",
        "sentence = \"he depends in his parents for money.\"\n",
        "correct_and_provide_feedback(sentence, model_name=\"t5\")"
      ],
      "metadata": {
        "id": "ImbfMjJfoak1",
        "outputId": "8b7a84e2-c7be-4d83-ed48-14b92be4a404",
        "colab": {
          "base_uri": "https://localhost:8080/"
        }
      },
      "execution_count": null,
      "outputs": [
        {
          "output_type": "stream",
          "name": "stdout",
          "text": [
            "Original Sentence: he depends in his parents for money.\n",
            "Corrected Sentence (T5): He depends on his parents for money.\n",
            "Feedback: The sentence 'He depends on his parents for money.' is perfectly correct in terms of grammar.\n",
            "\n",
            "- There's no incorrect use of articles; the sentence doesn't require any.\n",
            "- Subject-verb agreement is correct. 'He' matches with 'depends', both being in the third person singular.\n",
            "- Tense consistency is maintained. The verb 'depends' is appropriately in present tense.\n",
            "- There's no misuse of prepositions. The preposition 'on' is used correctly to show dependence relation between the subject and its parents.\n",
            "\n",
            "Therefore, no improvements are needed for this sentence.\n",
            "================================================================================\n"
          ]
        },
        {
          "output_type": "execute_result",
          "data": {
            "text/plain": [
              "('He depends on his parents for money.',\n",
              " \"The sentence 'He depends on his parents for money.' is perfectly correct in terms of grammar.\\n\\n- There's no incorrect use of articles; the sentence doesn't require any.\\n- Subject-verb agreement is correct. 'He' matches with 'depends', both being in the third person singular.\\n- Tense consistency is maintained. The verb 'depends' is appropriately in present tense.\\n- There's no misuse of prepositions. The preposition 'on' is used correctly to show dependence relation between the subject and its parents.\\n\\nTherefore, no improvements are needed for this sentence.\")"
            ]
          },
          "metadata": {},
          "execution_count": 108
        }
      ]
    },
    {
      "cell_type": "code",
      "source": [
        "# Tense Consistency\n",
        "\n",
        "sentence = \"she was cooking and eat.\"\n",
        "correct_and_provide_feedback(sentence, model_name=\"t5\")"
      ],
      "metadata": {
        "id": "JI7f8EKXl4wl",
        "outputId": "71a06f12-04ed-4eb5-f25c-511c5f93bf5f",
        "colab": {
          "base_uri": "https://localhost:8080/"
        }
      },
      "execution_count": null,
      "outputs": [
        {
          "output_type": "stream",
          "name": "stdout",
          "text": [
            "Original Sentence: she was cooking and eat.\n",
            "Corrected Sentence (T5): She was cooking and eating.\n",
            "Feedback: The sentence: \"She was cooking and eating,\" does not contain any grammatical errors based on those areas mentioned.\n",
            "\n",
            "- There's no incorrect use of articles. The sentence doesn't require any articles \"a,\" \"an,\" or \"the.\"\n",
            "\n",
            "- There's correct subject-verb agreement. The past continuous tense verbs \"was cooking\" and \"was eating\" align properly with the singular subject \"she.\"\n",
            "\n",
            "- Tense consistency is maintained. Both actions (\"cooking\" and \"eating\") are in the past continuous tense.\n",
            "\n",
            "- There's no misuse of prepositions. The sentence doesn't include any prepositions.\n",
            "\n",
            "No suggestions for improvement are needed as the sentence is grammatically correct.\n",
            "================================================================================\n"
          ]
        },
        {
          "output_type": "execute_result",
          "data": {
            "text/plain": [
              "('She was cooking and eating.',\n",
              " 'The sentence: \"She was cooking and eating,\" does not contain any grammatical errors based on those areas mentioned.\\n\\n- There\\'s no incorrect use of articles. The sentence doesn\\'t require any articles \"a,\" \"an,\" or \"the.\"\\n\\n- There\\'s correct subject-verb agreement. The past continuous tense verbs \"was cooking\" and \"was eating\" align properly with the singular subject \"she.\"\\n\\n- Tense consistency is maintained. Both actions (\"cooking\" and \"eating\") are in the past continuous tense.\\n\\n- There\\'s no misuse of prepositions. The sentence doesn\\'t include any prepositions.\\n\\nNo suggestions for improvement are needed as the sentence is grammatically correct.')"
            ]
          },
          "metadata": {},
          "execution_count": 99
        }
      ]
    },
    {
      "cell_type": "code",
      "source": [
        "# Tense Consistency\n",
        "\n",
        "sentence = \"he was walking to the store when he sees a dog .\"\n",
        "correct_and_provide_feedback(sentence, model_name=\"t5\")"
      ],
      "metadata": {
        "id": "8YzNL-amn0uN",
        "outputId": "24917a0f-9421-46f2-a1d7-1761459ea1ea",
        "colab": {
          "base_uri": "https://localhost:8080/"
        }
      },
      "execution_count": null,
      "outputs": [
        {
          "output_type": "stream",
          "name": "stdout",
          "text": [
            "Original Sentence: he was walking to the store when he sees a dog .\n",
            "Corrected Sentence (T5): He was walking to the store when he saw a dog .\n",
            "Feedback: The sentence 'He was walking to the store when he saw a dog.' is grammatically correct. \n",
            "\n",
            "- The use of articles is correct. 'The' is correctly used before 'store', referring to a specific one, and 'a' before 'dog', referring to any dog he saw.\n",
            "- In terms of subject-verb agreement, 'He was walking' and 'he saw' both correctly match the singular subject 'he'.\n",
            "- There is tense consistency. The sentence combines the past continuous 'was walking' with the simple past 'saw', which is correct as one action ('saw a dog') interrupts the other action that was in progress ('was walking to the store').\n",
            "- There is no misuse of prepositions. 'To' is correctly used to describe movement towards a place (the store).\n",
            "\n",
            "No suggestions for improvement are necessary because the sentence is grammatically accurate.\n",
            "================================================================================\n"
          ]
        },
        {
          "output_type": "execute_result",
          "data": {
            "text/plain": [
              "('He was walking to the store when he saw a dog .',\n",
              " \"The sentence 'He was walking to the store when he saw a dog.' is grammatically correct. \\n\\n- The use of articles is correct. 'The' is correctly used before 'store', referring to a specific one, and 'a' before 'dog', referring to any dog he saw.\\n- In terms of subject-verb agreement, 'He was walking' and 'he saw' both correctly match the singular subject 'he'.\\n- There is tense consistency. The sentence combines the past continuous 'was walking' with the simple past 'saw', which is correct as one action ('saw a dog') interrupts the other action that was in progress ('was walking to the store').\\n- There is no misuse of prepositions. 'To' is correctly used to describe movement towards a place (the store).\\n\\nNo suggestions for improvement are necessary because the sentence is grammatically accurate.\")"
            ]
          },
          "metadata": {},
          "execution_count": 100
        }
      ]
    },
    {
      "cell_type": "markdown",
      "source": [
        "Step 15: Interactive Prompt"
      ],
      "metadata": {
        "id": "dEpT5TzyBgRY"
      }
    },
    {
      "cell_type": "code",
      "source": [
        "while True:\n",
        "    # Take input from the user\n",
        "    a = input(\"Enter an incorrect sentence (or type 'exit' to quit): \")\n",
        "\n",
        "    # Exit condition\n",
        "    if a.lower() == \"exit\":\n",
        "        print(\"Exiting the interactive prompt.\")\n",
        "        break\n",
        "\n",
        "    # Process the input and provide correction and feedback\n",
        "    corrected_sentence, feedback = correct_and_provide_feedback(a, model_name='t5')\n"
      ],
      "metadata": {
        "id": "ZE-FQYvUsN5C",
        "outputId": "4ed25089-f128-49ab-f39a-633631d9ce84",
        "colab": {
          "base_uri": "https://localhost:8080/"
        }
      },
      "execution_count": null,
      "outputs": [
        {
          "output_type": "stream",
          "name": "stdout",
          "text": [
            "Enter an incorrect sentence (or type 'exit' to quit): she was cooking and eat.\n",
            "Original Sentence: she was cooking and eat.\n",
            "Corrected Sentence (T5): She was cooking and eating.\n",
            "Feedback: The sentence 'She was cooking and eating.' is grammatically correct. Here's the analysis based on your description:\n",
            "\n",
            "- Incorrect use of articles: The sentence does not require the use of any articles (a, an, the). Therefore, there are no errors in this category.\n",
            "- Subject-verb agreement: The subject 'She' properly agrees with the verb 'was cooking' and 'eating'. Both actions refer to the same subject which is singular.\n",
            "- Tense consistency: The sentence is consistent in the past continuous tense; 'was cooking' and 'eating' both suggest ongoing actions in the past.\n",
            "- Preposition misuse: There are no prepositions in this sentence, hence there's no misuse.\n",
            "\n",
            "There are no suggestions for improvement because the sentence is grammatically accurate. It correctly presents two activities that were occurring at the same time in the past.\n",
            "================================================================================\n",
            "Enter an incorrect sentence (or type 'exit' to quit): exit\n",
            "Exiting the interactive prompt.\n"
          ]
        }
      ]
    },
    {
      "cell_type": "markdown",
      "source": [
        "References\n",
        "\n",
        "\n",
        "1. T5 Model Paper\n",
        "   Raffel, C., Shazeer, N., Roberts, A., Lee, K., Narang, S., Matena, M., Zhou, Y., Li, W., & Liu, P. J. (2020).  \n",
        "   \"Exploring the Limits of Transfer Learning with a Unified Text-to-Text Transformer.\"\n",
        "   Journal of Machine Learning Research (JMLR).  \n",
        "   [https://arxiv.org/abs/1910.10683](https://arxiv.org/abs/1910.10683)\n",
        "\n",
        "2. Hugging Face Transformers Library:  \n",
        "   Wolf, T., Debut, L., Sanh, V., Chaumond, J., Delangue, C., Moi, A., Cistac, P., Rault, T., Louf, R., Funtowicz, M., & Brew, J. (2020).  \n",
        "   \"Transformers: State-of-the-Art Natural Language Processing.\"\n",
        "   EMNLP 2020: System Demonstrations.  \n",
        "   [https://github.com/huggingface/transformers](https://github.com/huggingface/transformers)\n",
        "\n",
        "3. OpenAI GPT Documentation:  \n",
        "   OpenAI. (2023).  \n",
        "   \"API Reference: Chat Completions Endpoint.\"\n",
        "   [https://platform.openai.com/docs/](https://platform.openai.com/docs/)\n",
        "\n",
        "4. Evaluation Metric - GLEU Score:  \n",
        "   Wu, Y., Schuster, M., Chen, Z., Le, Q. V., Norouzi, M., Macherey, W., Krikun, M., Cao, Y., Gao, Q., Macherey, K., et al. (2016).  \n",
        "   \"Google’s Neural Machine Translation System: Bridging the Gap between Human and Machine Translation.\"\n",
        "   [https://arxiv.org/abs/1609.08144](https://arxiv.org/abs/1609.08144)\n",
        "\n",
        "5. Grammar Correction with NLP:  \n",
        "   Napoles, C., Sakaguchi, K., & Tetreault, J. (2017).  \n",
        "   \"JFLEG: A Fluency Corpus and Benchmark for Grammatical Error Correction.\"\n",
        "   Proceedings of the 15th Conference of the European Chapter of the Association for Computational Linguistics.  \n",
        "   [https://arxiv.org/abs/1702.04066](https://arxiv.org/abs/1702.04066)\n",
        "\n",
        "6. Beam Search Decoding:  \n",
        "   Och, F. J., & Ney, H. (2004).  \n",
        "   \"The Alignment Template Approach to Statistical Machine Translation.\"\n",
        "   Computational Linguistics.  \n",
        "   [https://dl.acm.org/doi/10.1162/089120104323093344](https://dl.acm.org/doi/10.1162/089120104323093344)\n",
        "\n",
        "7. Fine-tuning NLP Models:  \n",
        "   Howard, J., & Ruder, S. (2018).  \n",
        "   \"Universal Language Model Fine-tuning for Text Classification.\"\n",
        "   ACL 2018.  \n",
        "   [https://arxiv.org/abs/1801.06146](https://arxiv.org/abs/1801.06146)\n",
        "\n",
        "8. Fluency and Accuracy Metrics for NLP:  \n",
        "   Pavlick, E., & Tetreault, J. (2016).  \n",
        "   \"Analyzing Grammatical Errors in Learner Writing.\"  \n",
        "   ACL Workshop on Innovative Use of NLP for Building Educational Applications.  \n",
        "   [https://aclanthology.org/W16-0506/](https://aclanthology.org/W16-0506/)\n",
        "\n",
        "9. Top-K Sampling and Nucleus Sampling:  \n",
        "   Holtzman, A., Buys, J., Du, L., Forbes, M., & Choi, Y. (2020).  \n",
        "   \"The Curious Case of Neural Text Degeneration.\"  \n",
        "   ICLR 2020.  \n",
        "   [https://arxiv.org/abs/1904.09751](https://arxiv.org/abs/1904.09751)\n",
        "\n",
        "10. Hugging Face Datasets Documentation:  \n",
        "    Hugging Face. (2023).  \n",
        "    \"Datasets: A Community Library for NLP Datasets.\"  \n",
        "    [https://huggingface.co/docs/datasets/](https://huggingface.co/docs/datasets/)\n",
        "\n",
        "11. Python's Natural Language Toolkit (NLTK):  \n",
        "    Bird, S., Klein, E., & Loper, E. (2009).  \n",
        "    \"Natural Language Processing with Python.\"\n",
        "    O'Reilly Media.  \n",
        "    [https://www.nltk.org/](https://www.nltk.org/)\n",
        "12. Center for Language and Speech Processing @ JHU. (n.d.). JHU-CLSP/jfleg · datasets at hugging face. jhu-clsp/jfleg · Datasets at Hugging Face. https://huggingface.co/datasets/jhu-clsp/jfleg\n"
      ],
      "metadata": {
        "id": "_PtCBgWsCBjz"
      }
    }
  ]
}